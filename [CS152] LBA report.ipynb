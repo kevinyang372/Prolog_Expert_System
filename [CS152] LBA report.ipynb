{
 "cells": [
  {
   "cell_type": "markdown",
   "metadata": {},
   "source": [
    "# <center>Prolog Expert System</center>"
   ]
  },
  {
   "cell_type": "markdown",
   "metadata": {},
   "source": [
    "### <center>Manh Pham Nguyen - Alexandra Pukhova - Yunfan Yang - Taha Bouhoun</center>"
   ]
  },
  {
   "cell_type": "markdown",
   "metadata": {},
   "source": [
    "Report In your groups, prepare a short report of maximum 3 pages (excluding references and appendices) detailing the following:\n",
    "\n",
    "1. List all the restaurants that you surveyed during the data collection"
   ]
  },
  {
   "cell_type": "code",
   "execution_count": 29,
   "metadata": {},
   "outputs": [
    {
     "data": {
      "text/plain": [
       "0           Miss Saigon Restaurant\n",
       "1                          Maroush\n",
       "2     Burgermeister Kottbusser Tor\n",
       "3                           Basmah\n",
       "4                         Mundvoll\n",
       "5                           Paglia\n",
       "6                   Milch & Zucker\n",
       "7                             Yafo\n",
       "8                            Jambo\n",
       "9                       Westberlin\n",
       "10                           Amrit\n",
       "11               Que Pasa Mexicana\n",
       "12                    Hasir Burger\n",
       "13         Kreuzberger Weltlaterne\n",
       "14                   Wonder Waffel\n",
       "15                            Eden\n",
       "16                         Nanoosh\n",
       "17                      La Piadina\n",
       "18                     Santa Maria\n",
       "19                   Sushi For You\n",
       "20               Hofbräu Wirtshaus\n",
       "21                            Pila\n",
       "22                         HuaTing\n",
       "23              Long March Canteen\n",
       "24                          Shezan\n",
       "25                      Lemongrass\n",
       "26                         Rissani\n",
       "27                         Richard\n",
       "28                        Spindler\n",
       "29                  Knofi Feinkost\n",
       "30                         Mabuhay\n",
       "Name: Name, dtype: object"
      ]
     },
     "execution_count": 29,
     "metadata": {},
     "output_type": "execute_result"
    }
   ],
   "source": [
    "import pandas as pd\n",
    "from IPython.display import*\n",
    "data = pd.read_csv('LBA data.csv')\n",
    "data.Name"
   ]
  },
  {
   "cell_type": "markdown",
   "metadata": {},
   "source": [
    "2. List the rules & askables that you used in your expert system"
   ]
  },
  {
   "cell_type": "code",
   "execution_count": null,
   "metadata": {},
   "outputs": [],
   "source": []
  },
  {
   "cell_type": "markdown",
   "metadata": {},
   "source": [
    "3. Describe the test cases and the suggested restaurants. For the test case you chose to verify by actually eating at the restaurant, take a picture of your group eating here and include it in your report."
   ]
  },
  {
   "cell_type": "code",
   "execution_count": null,
   "metadata": {},
   "outputs": [],
   "source": []
  },
  {
   "cell_type": "markdown",
   "metadata": {},
   "source": [
    "4. Detail briefly the contribution of each group member to the assignment."
   ]
  },
  {
   "cell_type": "code",
   "execution_count": null,
   "metadata": {},
   "outputs": [],
   "source": []
  },
  {
   "cell_type": "markdown",
   "metadata": {},
   "source": [
    "## References\n",
    "- If any"
   ]
  },
  {
   "cell_type": "markdown",
   "metadata": {},
   "source": [
    "## Appendix\n",
    "1. Prolog code:\n",
    "2. Link to the dataset sheet:\n",
    "3. HC to tag (I need to squeeze in interview_survey #CS_major_problem)"
   ]
  },
  {
   "cell_type": "code",
   "execution_count": null,
   "metadata": {},
   "outputs": [],
   "source": []
  }
 ],
 "metadata": {
  "kernelspec": {
   "display_name": "Python 3",
   "language": "python",
   "name": "python3"
  },
  "language_info": {
   "codemirror_mode": {
    "name": "ipython",
    "version": 3
   },
   "file_extension": ".py",
   "mimetype": "text/x-python",
   "name": "python",
   "nbconvert_exporter": "python",
   "pygments_lexer": "ipython3",
   "version": "3.7.1"
  }
 },
 "nbformat": 4,
 "nbformat_minor": 2
}
