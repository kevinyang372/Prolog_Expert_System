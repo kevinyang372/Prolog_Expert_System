{
  "nbformat": 4,
  "nbformat_minor": 0,
  "metadata": {
    "colab": {
      "name": "LBA.ipynb",
      "provenance": [],
      "collapsed_sections": [],
      "include_colab_link": true
    },
    "kernelspec": {
      "name": "python3",
      "display_name": "Python 3"
    }
  },
  "cells": [
    {
      "cell_type": "markdown",
      "metadata": {
        "id": "view-in-github",
        "colab_type": "text"
      },
      "source": [
        "<a href=\"https://colab.research.google.com/github/kevinyang372/Prolog_Expert_System/blob/Sasha/LBA.ipynb\" target=\"_parent\"><img src=\"https://colab.research.google.com/assets/colab-badge.svg\" alt=\"Open In Colab\"/></a>"
      ]
    },
    {
      "cell_type": "code",
      "metadata": {
        "id": "H6stno-luRIY",
        "colab_type": "code",
        "outputId": "b2c79800-7b53-4cc6-bb7b-f3cedf4b1b55",
        "colab": {
          "base_uri": "https://localhost:8080/",
          "height": 1000
        }
      },
      "source": [
        "!sudo apt install swi-prolog"
      ],
      "execution_count": 0,
      "outputs": [
        {
          "output_type": "stream",
          "text": [
            "Reading package lists... Done\n",
            "Building dependency tree       \n",
            "Reading state information... Done\n",
            "The following package was automatically installed and is no longer required:\n",
            "  libnvidia-common-430\n",
            "Use 'sudo apt autoremove' to remove it.\n",
            "The following additional packages will be installed:\n",
            "  autoconf automake autopoint autotools-dev debhelper dh-autoreconf\n",
            "  dh-strip-nondeterminism file gettext gettext-base intltool-debian\n",
            "  libarchive-cpio-perl libarchive-zip-perl libbsd-dev libedit-dev\n",
            "  libfile-stripnondeterminism-perl libgmp-dev libgmpxx4ldbl libmagic-mgc\n",
            "  libmagic1 libmail-sendmail-perl libncursesw5-dev libossp-uuid16 libsigsegv2\n",
            "  libsys-hostname-long-perl libtimedate-perl libtool m4 po-debconf\n",
            "  swi-prolog-nox swi-prolog-x\n",
            "Suggested packages:\n",
            "  autoconf-archive gnu-standards autoconf-doc dh-make dwz gettext-doc\n",
            "  libasprintf-dev libgettextpo-dev gmp-doc libgmp10-doc libmpfr-dev\n",
            "  ncurses-doc uuid libtool-doc gcj-jdk m4-doc libmail-box-perl elpa-ediprolog\n",
            "The following NEW packages will be installed:\n",
            "  autoconf automake autopoint autotools-dev debhelper dh-autoreconf\n",
            "  dh-strip-nondeterminism file gettext gettext-base intltool-debian\n",
            "  libarchive-cpio-perl libarchive-zip-perl libbsd-dev libedit-dev\n",
            "  libfile-stripnondeterminism-perl libgmp-dev libgmpxx4ldbl libmagic-mgc\n",
            "  libmagic1 libmail-sendmail-perl libncursesw5-dev libossp-uuid16 libsigsegv2\n",
            "  libsys-hostname-long-perl libtimedate-perl libtool m4 po-debconf swi-prolog\n",
            "  swi-prolog-nox swi-prolog-x\n",
            "0 upgraded, 32 newly installed, 0 to remove and 7 not upgraded.\n",
            "Need to get 10.9 MB of archives.\n",
            "After this operation, 56.5 MB of additional disk space will be used.\n",
            "Get:1 http://archive.ubuntu.com/ubuntu bionic-updates/main amd64 libmagic-mgc amd64 1:5.32-2ubuntu0.3 [184 kB]\n",
            "Get:2 http://archive.ubuntu.com/ubuntu bionic-updates/main amd64 libmagic1 amd64 1:5.32-2ubuntu0.3 [68.7 kB]\n",
            "Get:3 http://archive.ubuntu.com/ubuntu bionic-updates/main amd64 file amd64 1:5.32-2ubuntu0.3 [22.1 kB]\n",
            "Get:4 http://archive.ubuntu.com/ubuntu bionic-updates/main amd64 gettext-base amd64 0.19.8.1-6ubuntu0.3 [113 kB]\n",
            "Get:5 http://archive.ubuntu.com/ubuntu bionic/main amd64 libsigsegv2 amd64 2.12-1 [14.7 kB]\n",
            "Get:6 http://archive.ubuntu.com/ubuntu bionic/main amd64 m4 amd64 1.4.18-1 [197 kB]\n",
            "Get:7 http://archive.ubuntu.com/ubuntu bionic/main amd64 autoconf all 2.69-11 [322 kB]\n",
            "Get:8 http://archive.ubuntu.com/ubuntu bionic/main amd64 autotools-dev all 20180224.1 [39.6 kB]\n",
            "Get:9 http://archive.ubuntu.com/ubuntu bionic/main amd64 automake all 1:1.15.1-3ubuntu2 [509 kB]\n",
            "Get:10 http://archive.ubuntu.com/ubuntu bionic-updates/main amd64 autopoint all 0.19.8.1-6ubuntu0.3 [426 kB]\n",
            "Get:11 http://archive.ubuntu.com/ubuntu bionic/main amd64 libtool all 2.4.6-2 [194 kB]\n",
            "Get:12 http://archive.ubuntu.com/ubuntu bionic/main amd64 dh-autoreconf all 17 [15.8 kB]\n",
            "Get:13 http://archive.ubuntu.com/ubuntu bionic-updates/main amd64 libarchive-zip-perl all 1.60-1ubuntu0.1 [84.6 kB]\n",
            "Get:14 http://archive.ubuntu.com/ubuntu bionic/main amd64 libfile-stripnondeterminism-perl all 0.040-1.1~build1 [13.8 kB]\n",
            "Get:15 http://archive.ubuntu.com/ubuntu bionic/main amd64 libtimedate-perl all 2.3000-2 [37.5 kB]\n",
            "Get:16 http://archive.ubuntu.com/ubuntu bionic/main amd64 dh-strip-nondeterminism all 0.040-1.1~build1 [5,208 B]\n",
            "Get:17 http://archive.ubuntu.com/ubuntu bionic-updates/main amd64 gettext amd64 0.19.8.1-6ubuntu0.3 [1,293 kB]\n",
            "Get:18 http://archive.ubuntu.com/ubuntu bionic/main amd64 intltool-debian all 0.35.0+20060710.4 [24.9 kB]\n",
            "Get:19 http://archive.ubuntu.com/ubuntu bionic/main amd64 po-debconf all 1.0.20 [232 kB]\n",
            "Get:20 http://archive.ubuntu.com/ubuntu bionic-updates/main amd64 debhelper all 11.1.6ubuntu2 [902 kB]\n",
            "Get:21 http://archive.ubuntu.com/ubuntu bionic/main amd64 libarchive-cpio-perl all 0.10-1 [9,644 B]\n",
            "Get:22 http://archive.ubuntu.com/ubuntu bionic/main amd64 libbsd-dev amd64 0.8.7-1 [150 kB]\n",
            "Get:23 http://archive.ubuntu.com/ubuntu bionic/main amd64 libedit-dev amd64 3.1-20170329-1 [99.1 kB]\n",
            "Get:24 http://archive.ubuntu.com/ubuntu bionic/main amd64 libgmpxx4ldbl amd64 2:6.1.2+dfsg-2 [8,964 B]\n",
            "Get:25 http://archive.ubuntu.com/ubuntu bionic/main amd64 libgmp-dev amd64 2:6.1.2+dfsg-2 [316 kB]\n",
            "Get:26 http://archive.ubuntu.com/ubuntu bionic/main amd64 libsys-hostname-long-perl all 1.5-1 [11.7 kB]\n",
            "Get:27 http://archive.ubuntu.com/ubuntu bionic/main amd64 libmail-sendmail-perl all 0.80-1 [22.6 kB]\n",
            "Get:28 http://archive.ubuntu.com/ubuntu bionic-updates/main amd64 libncursesw5-dev amd64 6.1-1ubuntu1.18.04 [199 kB]\n",
            "Get:29 http://archive.ubuntu.com/ubuntu bionic/universe amd64 libossp-uuid16 amd64 1.6.2-1.5build4 [29.0 kB]\n",
            "Get:30 http://archive.ubuntu.com/ubuntu bionic/universe amd64 swi-prolog-nox amd64 7.6.4+dfsg-1build1 [3,352 kB]\n",
            "Get:31 http://archive.ubuntu.com/ubuntu bionic/universe amd64 swi-prolog-x amd64 7.6.4+dfsg-1build1 [2,010 kB]\n",
            "Get:32 http://archive.ubuntu.com/ubuntu bionic/universe amd64 swi-prolog amd64 7.6.4+dfsg-1build1 [15.3 kB]\n",
            "Fetched 10.9 MB in 0s (27.8 MB/s)\n",
            "debconf: unable to initialize frontend: Dialog\n",
            "debconf: (No usable dialog-like program is installed, so the dialog based frontend cannot be used. at /usr/share/perl5/Debconf/FrontEnd/Dialog.pm line 76, <> line 32.)\n",
            "debconf: falling back to frontend: Readline\n",
            "debconf: unable to initialize frontend: Readline\n",
            "debconf: (This frontend requires a controlling tty.)\n",
            "debconf: falling back to frontend: Teletype\n",
            "dpkg-preconfigure: unable to re-open stdin: \n",
            "Selecting previously unselected package libmagic-mgc.\n",
            "(Reading database ... 134985 files and directories currently installed.)\n",
            "Preparing to unpack .../00-libmagic-mgc_1%3a5.32-2ubuntu0.3_amd64.deb ...\n",
            "Unpacking libmagic-mgc (1:5.32-2ubuntu0.3) ...\n",
            "Selecting previously unselected package libmagic1:amd64.\n",
            "Preparing to unpack .../01-libmagic1_1%3a5.32-2ubuntu0.3_amd64.deb ...\n",
            "Unpacking libmagic1:amd64 (1:5.32-2ubuntu0.3) ...\n",
            "Selecting previously unselected package file.\n",
            "Preparing to unpack .../02-file_1%3a5.32-2ubuntu0.3_amd64.deb ...\n",
            "Unpacking file (1:5.32-2ubuntu0.3) ...\n",
            "Selecting previously unselected package gettext-base.\n",
            "Preparing to unpack .../03-gettext-base_0.19.8.1-6ubuntu0.3_amd64.deb ...\n",
            "Unpacking gettext-base (0.19.8.1-6ubuntu0.3) ...\n",
            "Selecting previously unselected package libsigsegv2:amd64.\n",
            "Preparing to unpack .../04-libsigsegv2_2.12-1_amd64.deb ...\n",
            "Unpacking libsigsegv2:amd64 (2.12-1) ...\n",
            "Selecting previously unselected package m4.\n",
            "Preparing to unpack .../05-m4_1.4.18-1_amd64.deb ...\n",
            "Unpacking m4 (1.4.18-1) ...\n",
            "Selecting previously unselected package autoconf.\n",
            "Preparing to unpack .../06-autoconf_2.69-11_all.deb ...\n",
            "Unpacking autoconf (2.69-11) ...\n",
            "Selecting previously unselected package autotools-dev.\n",
            "Preparing to unpack .../07-autotools-dev_20180224.1_all.deb ...\n",
            "Unpacking autotools-dev (20180224.1) ...\n",
            "Selecting previously unselected package automake.\n",
            "Preparing to unpack .../08-automake_1%3a1.15.1-3ubuntu2_all.deb ...\n",
            "Unpacking automake (1:1.15.1-3ubuntu2) ...\n",
            "Selecting previously unselected package autopoint.\n",
            "Preparing to unpack .../09-autopoint_0.19.8.1-6ubuntu0.3_all.deb ...\n",
            "Unpacking autopoint (0.19.8.1-6ubuntu0.3) ...\n",
            "Selecting previously unselected package libtool.\n",
            "Preparing to unpack .../10-libtool_2.4.6-2_all.deb ...\n",
            "Unpacking libtool (2.4.6-2) ...\n",
            "Selecting previously unselected package dh-autoreconf.\n",
            "Preparing to unpack .../11-dh-autoreconf_17_all.deb ...\n",
            "Unpacking dh-autoreconf (17) ...\n",
            "Selecting previously unselected package libarchive-zip-perl.\n",
            "Preparing to unpack .../12-libarchive-zip-perl_1.60-1ubuntu0.1_all.deb ...\n",
            "Unpacking libarchive-zip-perl (1.60-1ubuntu0.1) ...\n",
            "Selecting previously unselected package libfile-stripnondeterminism-perl.\n",
            "Preparing to unpack .../13-libfile-stripnondeterminism-perl_0.040-1.1~build1_all.deb ...\n",
            "Unpacking libfile-stripnondeterminism-perl (0.040-1.1~build1) ...\n",
            "Selecting previously unselected package libtimedate-perl.\n",
            "Preparing to unpack .../14-libtimedate-perl_2.3000-2_all.deb ...\n",
            "Unpacking libtimedate-perl (2.3000-2) ...\n",
            "Selecting previously unselected package dh-strip-nondeterminism.\n",
            "Preparing to unpack .../15-dh-strip-nondeterminism_0.040-1.1~build1_all.deb ...\n",
            "Unpacking dh-strip-nondeterminism (0.040-1.1~build1) ...\n",
            "Selecting previously unselected package gettext.\n",
            "Preparing to unpack .../16-gettext_0.19.8.1-6ubuntu0.3_amd64.deb ...\n",
            "Unpacking gettext (0.19.8.1-6ubuntu0.3) ...\n",
            "Selecting previously unselected package intltool-debian.\n",
            "Preparing to unpack .../17-intltool-debian_0.35.0+20060710.4_all.deb ...\n",
            "Unpacking intltool-debian (0.35.0+20060710.4) ...\n",
            "Selecting previously unselected package po-debconf.\n",
            "Preparing to unpack .../18-po-debconf_1.0.20_all.deb ...\n",
            "Unpacking po-debconf (1.0.20) ...\n",
            "Selecting previously unselected package debhelper.\n",
            "Preparing to unpack .../19-debhelper_11.1.6ubuntu2_all.deb ...\n",
            "Unpacking debhelper (11.1.6ubuntu2) ...\n",
            "Selecting previously unselected package libarchive-cpio-perl.\n",
            "Preparing to unpack .../20-libarchive-cpio-perl_0.10-1_all.deb ...\n",
            "Unpacking libarchive-cpio-perl (0.10-1) ...\n",
            "Selecting previously unselected package libbsd-dev:amd64.\n",
            "Preparing to unpack .../21-libbsd-dev_0.8.7-1_amd64.deb ...\n",
            "Unpacking libbsd-dev:amd64 (0.8.7-1) ...\n",
            "Selecting previously unselected package libedit-dev:amd64.\n",
            "Preparing to unpack .../22-libedit-dev_3.1-20170329-1_amd64.deb ...\n",
            "Unpacking libedit-dev:amd64 (3.1-20170329-1) ...\n",
            "Selecting previously unselected package libgmpxx4ldbl:amd64.\n",
            "Preparing to unpack .../23-libgmpxx4ldbl_2%3a6.1.2+dfsg-2_amd64.deb ...\n",
            "Unpacking libgmpxx4ldbl:amd64 (2:6.1.2+dfsg-2) ...\n",
            "Selecting previously unselected package libgmp-dev:amd64.\n",
            "Preparing to unpack .../24-libgmp-dev_2%3a6.1.2+dfsg-2_amd64.deb ...\n",
            "Unpacking libgmp-dev:amd64 (2:6.1.2+dfsg-2) ...\n",
            "Selecting previously unselected package libsys-hostname-long-perl.\n",
            "Preparing to unpack .../25-libsys-hostname-long-perl_1.5-1_all.deb ...\n",
            "Unpacking libsys-hostname-long-perl (1.5-1) ...\n",
            "Selecting previously unselected package libmail-sendmail-perl.\n",
            "Preparing to unpack .../26-libmail-sendmail-perl_0.80-1_all.deb ...\n",
            "Unpacking libmail-sendmail-perl (0.80-1) ...\n",
            "Selecting previously unselected package libncursesw5-dev:amd64.\n",
            "Preparing to unpack .../27-libncursesw5-dev_6.1-1ubuntu1.18.04_amd64.deb ...\n",
            "Unpacking libncursesw5-dev:amd64 (6.1-1ubuntu1.18.04) ...\n",
            "Selecting previously unselected package libossp-uuid16:amd64.\n",
            "Preparing to unpack .../28-libossp-uuid16_1.6.2-1.5build4_amd64.deb ...\n",
            "Unpacking libossp-uuid16:amd64 (1.6.2-1.5build4) ...\n",
            "Selecting previously unselected package swi-prolog-nox.\n",
            "Preparing to unpack .../29-swi-prolog-nox_7.6.4+dfsg-1build1_amd64.deb ...\n",
            "Unpacking swi-prolog-nox (7.6.4+dfsg-1build1) ...\n",
            "Selecting previously unselected package swi-prolog-x.\n",
            "Preparing to unpack .../30-swi-prolog-x_7.6.4+dfsg-1build1_amd64.deb ...\n",
            "Unpacking swi-prolog-x (7.6.4+dfsg-1build1) ...\n",
            "Selecting previously unselected package swi-prolog.\n",
            "Preparing to unpack .../31-swi-prolog_7.6.4+dfsg-1build1_amd64.deb ...\n",
            "Unpacking swi-prolog (7.6.4+dfsg-1build1) ...\n",
            "Setting up libarchive-zip-perl (1.60-1ubuntu0.1) ...\n",
            "Setting up libtimedate-perl (2.3000-2) ...\n",
            "Setting up libsigsegv2:amd64 (2.12-1) ...\n",
            "Setting up libbsd-dev:amd64 (0.8.7-1) ...\n",
            "Setting up libossp-uuid16:amd64 (1.6.2-1.5build4) ...\n",
            "Setting up libarchive-cpio-perl (0.10-1) ...\n",
            "Setting up gettext-base (0.19.8.1-6ubuntu0.3) ...\n",
            "Setting up m4 (1.4.18-1) ...\n",
            "Setting up libmagic-mgc (1:5.32-2ubuntu0.3) ...\n",
            "Setting up libmagic1:amd64 (1:5.32-2ubuntu0.3) ...\n",
            "Setting up libsys-hostname-long-perl (1.5-1) ...\n",
            "Setting up libmail-sendmail-perl (0.80-1) ...\n",
            "Setting up autotools-dev (20180224.1) ...\n",
            "Setting up libncursesw5-dev:amd64 (6.1-1ubuntu1.18.04) ...\n",
            "Setting up libedit-dev:amd64 (3.1-20170329-1) ...\n",
            "Setting up libgmpxx4ldbl:amd64 (2:6.1.2+dfsg-2) ...\n",
            "Setting up autopoint (0.19.8.1-6ubuntu0.3) ...\n",
            "Setting up libfile-stripnondeterminism-perl (0.040-1.1~build1) ...\n",
            "Setting up libgmp-dev:amd64 (2:6.1.2+dfsg-2) ...\n",
            "Setting up gettext (0.19.8.1-6ubuntu0.3) ...\n",
            "Setting up autoconf (2.69-11) ...\n",
            "Setting up file (1:5.32-2ubuntu0.3) ...\n",
            "Setting up swi-prolog-nox (7.6.4+dfsg-1build1) ...\n",
            "update-alternatives: using /usr/bin/swipl to provide /usr/bin/prolog (prolog) in auto mode\n",
            "Setting up intltool-debian (0.35.0+20060710.4) ...\n",
            "Setting up automake (1:1.15.1-3ubuntu2) ...\n",
            "update-alternatives: using /usr/bin/automake-1.15 to provide /usr/bin/automake (automake) in auto mode\n",
            "Setting up libtool (2.4.6-2) ...\n",
            "Setting up po-debconf (1.0.20) ...\n",
            "Setting up swi-prolog-x (7.6.4+dfsg-1build1) ...\n",
            "Setting up swi-prolog (7.6.4+dfsg-1build1) ...\n",
            "Setting up debhelper (11.1.6ubuntu2) ...\n",
            "Setting up dh-autoreconf (17) ...\n",
            "Setting up dh-strip-nondeterminism (0.040-1.1~build1) ...\n",
            "Processing triggers for libc-bin (2.27-3ubuntu1) ...\n",
            "Processing triggers for man-db (2.8.3-2ubuntu0.1) ...\n"
          ],
          "name": "stdout"
        }
      ]
    },
    {
      "cell_type": "code",
      "metadata": {
        "id": "I9qT6Gh47ytd",
        "colab_type": "code",
        "outputId": "9a5d9dc3-62d9-467b-d990-775aad5fb02e",
        "colab": {
          "base_uri": "https://localhost:8080/",
          "height": 105
        }
      },
      "source": [
        "pip install pyswip"
      ],
      "execution_count": 0,
      "outputs": [
        {
          "output_type": "stream",
          "text": [
            "Collecting pyswip\n",
            "  Downloading https://files.pythonhosted.org/packages/e4/f3/2b1462c4379b089426dbedb29d8d903e63baf37857ccf6e87f168b786019/pyswip-0.2.9-py2.py3-none-any.whl\n",
            "Installing collected packages: pyswip\n",
            "Successfully installed pyswip-0.2.9\n"
          ],
          "name": "stdout"
        }
      ]
    },
    {
      "cell_type": "code",
      "metadata": {
        "id": "lMM-oZ-17nTJ",
        "colab_type": "code",
        "colab": {}
      },
      "source": [
        "from pyswip import Prolog\n",
        "\n",
        "prolog = Prolog()\n",
        "\n",
        "prolog.assertz(\"hasCuisine(maroush, middle_eastern)\")\n",
        "prolog.assertz(\"hasCuisine(maroush, lebanese)\")\n",
        "prolog.assertz(\"hasCuisine(miss_saigon, vietnamese)\")\n",
        "prolog.assertz(\"hasCuisine(burgermeister, american)\")\n",
        "prolog.assertz(\"hasCuisine(basmah, mediterranean)\")\n",
        "prolog.assertz(\"hasCuisine(basmah, sudanese)\")\n",
        "prolog.assertz(\"hasCuisine(mundvoll, international)\")\n",
        "prolog.assertz(\"hasCuisine(paglia, mediterranean)\")\n",
        "prolog.assertz(\"hasCuisine(paglia, italian)\")\n",
        "prolog.assertz(\"hasCuisine(milchundzucker, international)\")\n",
        "prolog.assertz(\"hasCuisine(yafo, israeli)\")\n",
        "prolog.assertz(\"hasCuisine(jambo, african)\")\n",
        "prolog.assertz(\"hasCuisine(westberlin, european)\")\n",
        "prolog.assertz(\"hasCuisine(amrit, european)\")\n",
        "prolog.assertz(\"hasCuisine(quepasamexicana, mexican)\")\n",
        "prolog.assertz(\"hasCuisine(hasirburger, turkish)\")\n",
        "prolog.assertz(\"hasCuisine(kreuzbergerweltlaterne, greek)\")\n",
        "prolog.assertz(\"hasCuisine(wonderwaffel, international)\")\n",
        "prolog.assertz(\"hasCuisine(eden, vietnamese)\")\n",
        "prolog.assertz(\"hasCuisine(nanoosh, mediterranean)\")\n",
        "prolog.assertz(\"hasCuisine(lapiadina, italian)\")\n",
        "prolog.assertz(\"hasCuisine(santamaria, mexican)\")\n",
        "\n",
        "prolog.assertz(\"priceRange(maroush, medium)\")\n",
        "prolog.assertz(\"priceRange(miss_saigon, low)\")\n",
        "prolog.assertz(\"priceRange(burgermeister, low)\")\n",
        "prolog.assertz(\"priceRange(basmah, low)\")\n",
        "prolog.assertz(\"priceRange(mundvoll, medium)\")\n",
        "prolog.assertz(\"priceRange(paglia, medium)\")\n",
        "prolog.assertz(\"priceRange(milchundzucker, medium)\")\n",
        "prolog.assertz(\"priceRange(yafo, medium)\")\n",
        "prolog.assertz(\"priceRange(jambo, medium)\")\n",
        "prolog.assertz(\"priceRange(westberlin, medium)\")\n",
        "prolog.assertz(\"priceRange(amrit, medium)\")\n",
        "prolog.assertz(\"priceRange(quepasamexicana, low)\")\n",
        "prolog.assertz(\"priceRange(hasirburger, medium)\")\n",
        "prolog.assertz(\"priceRange(kreuzbergerweltlaterne, medium)\")\n",
        "prolog.assertz(\"priceRange(wonderwaffel, medium)\")\n",
        "prolog.assertz(\"priceRange(eden, medium)\")\n",
        "prolog.assertz(\"priceRange(nanoosh, medium)\")\n",
        "prolog.assertz(\"priceRange(lapiadina, low)\")\n",
        "prolog.assertz(\"priceRange(santamaria, low)\")\n",
        "\n",
        "prolog.assertz(\"distance(maroush, 9)\")\n",
        "prolog.assertz(\"distance(miss_saigon, 17)\")\n",
        "prolog.assertz(\"distance(miss_saigon, 12)\")\n",
        "prolog.assertz(\"distance(basmah, 15)\")\n",
        "prolog.assertz(\"distance(mundvoll, 6)\")\n",
        "prolog.assertz(\"distance(paglia, 9)\")\n",
        "prolog.assertz(\"distance(milchundzucker, 12)\")\n",
        "prolog.assertz(\"distance(yafo, 20)\")\n",
        "prolog.assertz(\"distance(jambo, 25)\")\n",
        "prolog.assertz(\"distance(westberlin, 35)\")\n",
        "prolog.assertz(\"distance(amrit, 25)\")\n",
        "prolog.assertz(\"distance(quepasamexicana, 10)\")\n",
        "prolog.assertz(\"distance(hasirburger, 10)\")\n",
        "prolog.assertz(\"distance(kreuzbergerweltlaterne, 15)\")\n",
        "prolog.assertz(\"distance(wonderwaffel, 18)\")\n",
        "prolog.assertz(\"distance(eden, 35)\")\n",
        "prolog.assertz(\"distance(nanoosh, 35)\")\n",
        "prolog.assertz(\"distance(lapiadina, 7)\")\n",
        "prolog.assertz(\"distance(santamaria, 9)\")\n",
        "\n",
        "prolog.assertz(\"query(X, Cuisine, Price, -1) :- hasCuisine(X, Cuisine), priceRange(X, Price)\")\n",
        "prolog.assertz(\"query(X, Cuisine, Price, Distance) :- hasCuisine(X, Cuisine), priceRange(X, Price), distance(X, Y), Y < Distance\")"
      ],
      "execution_count": 0,
      "outputs": []
    },
    {
      "cell_type": "code",
      "metadata": {
        "id": "KK5b0inA4_qw",
        "colab_type": "code",
        "colab": {}
      },
      "source": [
        "# testing sharing"
      ],
      "execution_count": 0,
      "outputs": []
    },
    {
      "cell_type": "code",
      "metadata": {
        "id": "uXKbxfhOuTbk",
        "colab_type": "code",
        "outputId": "1acacbed-9fee-4082-898e-f19e0b04b42c",
        "colab": {
          "base_uri": "https://localhost:8080/",
          "height": 34
        }
      },
      "source": [
        "# filter range within 10\n",
        "res = set()\n",
        "for soln in prolog.query(\"query(X, _, _, 10)\"):\n",
        "    res.add(soln[\"X\"])\n",
        "print(res)"
      ],
      "execution_count": 0,
      "outputs": [
        {
          "output_type": "stream",
          "text": [
            "{'maroush'}\n"
          ],
          "name": "stdout"
        }
      ]
    },
    {
      "cell_type": "code",
      "metadata": {
        "id": "dhomQpiJw3qv",
        "colab_type": "code",
        "outputId": "e4a8d5f1-2220-4f43-c2bd-78cb9e37948e",
        "colab": {
          "base_uri": "https://localhost:8080/",
          "height": 34
        }
      },
      "source": [
        "# filter cuisine lebanese and medium price\n",
        "res = set()\n",
        "for soln in prolog.query(\"query(X, lebanese, medium, -1)\"):\n",
        "    res.add(soln[\"X\"])\n",
        "print(res)"
      ],
      "execution_count": 0,
      "outputs": [
        {
          "output_type": "stream",
          "text": [
            "{'maroush'}\n"
          ],
          "name": "stdout"
        }
      ]
    },
    {
      "cell_type": "code",
      "metadata": {
        "id": "F9eax-iU1SkG",
        "colab_type": "code",
        "colab": {}
      },
      "source": [
        "def search(cuisine = '_', price = '_', distance = '-1'):\n",
        "    to_query = \"query(X, %s)\" % (\",\".join([cuisine, price, distance]))\n",
        "    return set([soln[\"X\"] for soln in prolog.query(to_query)])"
      ],
      "execution_count": 0,
      "outputs": []
    },
    {
      "cell_type": "code",
      "metadata": {
        "id": "_dFzgp0R4NSX",
        "colab_type": "code",
        "outputId": "a57d1c89-37ca-4f00-cb84-c84ec43149e4",
        "colab": {
          "base_uri": "https://localhost:8080/",
          "height": 34
        }
      },
      "source": [
        "search()"
      ],
      "execution_count": 0,
      "outputs": [
        {
          "output_type": "execute_result",
          "data": {
            "text/plain": [
              "{'burgermeister', 'maroush', 'miss_saigon'}"
            ]
          },
          "metadata": {
            "tags": []
          },
          "execution_count": 15
        }
      ]
    },
    {
      "cell_type": "code",
      "metadata": {
        "id": "x4jqvEG64RwP",
        "colab_type": "code",
        "outputId": "901ffc54-9b3b-4da5-e26f-9a6dd528d02a",
        "colab": {
          "base_uri": "https://localhost:8080/",
          "height": 34
        }
      },
      "source": [
        "search(cuisine = \"lebanese\", distance = \"10\")"
      ],
      "execution_count": 0,
      "outputs": [
        {
          "output_type": "execute_result",
          "data": {
            "text/plain": [
              "{'maroush'}"
            ]
          },
          "metadata": {
            "tags": []
          },
          "execution_count": 16
        }
      ]
    },
    {
      "cell_type": "code",
      "metadata": {
        "id": "g2AouSyx4buS",
        "colab_type": "code",
        "colab": {}
      },
      "source": [
        ""
      ],
      "execution_count": 0,
      "outputs": []
    }
  ]
}