{
  "nbformat": 4,
  "nbformat_minor": 0,
  "metadata": {
    "colab": {
      "name": "LBA.ipynb",
      "provenance": [],
      "collapsed_sections": [],
      "include_colab_link": true
    },
    "kernelspec": {
      "name": "python3",
      "display_name": "Python 3"
    }
  },
  "cells": [
    {
      "cell_type": "markdown",
      "metadata": {
        "id": "view-in-github",
        "colab_type": "text"
      },
      "source": [
        "<a href=\"https://colab.research.google.com/github/kevinyang372/Prolog_Expert_System/blob/Sasha/LBA.ipynb\" target=\"_parent\"><img src=\"https://colab.research.google.com/assets/colab-badge.svg\" alt=\"Open In Colab\"/></a>"
      ]
    },
    {
      "cell_type": "code",
      "metadata": {
        "id": "H6stno-luRIY",
        "colab_type": "code",
        "outputId": "f16a55c8-5d4b-456f-c840-580f0fe68e26",
        "colab": {
          "base_uri": "https://localhost:8080/",
          "height": 153
        }
      },
      "source": [
        "# !sudo apt install swi-prolog"
      ],
      "execution_count": 7,
      "outputs": [
        {
          "output_type": "stream",
          "text": [
            "Reading package lists... Done\n",
            "Building dependency tree       \n",
            "Reading state information... Done\n",
            "swi-prolog is already the newest version (7.6.4+dfsg-1build1).\n",
            "The following package was automatically installed and is no longer required:\n",
            "  libnvidia-common-430\n",
            "Use 'sudo apt autoremove' to remove it.\n",
            "0 upgraded, 0 newly installed, 0 to remove and 7 not upgraded.\n"
          ],
          "name": "stdout"
        }
      ]
    },
    {
      "cell_type": "code",
      "metadata": {
        "id": "I9qT6Gh47ytd",
        "colab_type": "code",
        "outputId": "a1f86f45-0490-44a1-9605-de373f1372b6",
        "colab": {
          "base_uri": "https://localhost:8080/",
          "height": 34
        }
      },
      "source": [
        "# pip install pyswip"
      ],
      "execution_count": 8,
      "outputs": [
        {
          "output_type": "stream",
          "text": [
            "Requirement already satisfied: pyswip in /usr/local/lib/python3.6/dist-packages (0.2.9)\n"
          ],
          "name": "stdout"
        }
      ]
    },
    {
      "cell_type": "code",
      "metadata": {
        "id": "dVQwmbe2YKYN",
        "colab_type": "code",
        "colab": {}
      },
      "source": [
        "import pandas as pd\n",
        "import numpy as np"
      ],
      "execution_count": 0,
      "outputs": []
    },
    {
      "cell_type": "code",
      "metadata": {
        "id": "ZW05UISfYjOI",
        "colab_type": "code",
        "colab": {}
      },
      "source": [
        "# Loading the data and renaming the columns \n",
        "# The names now correspond to the statement types\n",
        " \n",
        "data = pd.read_csv('/content/CS152 LBA data - Sheet1.csv', skiprows=1)\n",
        "col_names = ['name', 'hasCuisine', 'priceRange', 'mealTypes', 'distance',\n",
        "             'isVegetarian', 'glutenFree', 'hasLanguage', 'transportation']\n",
        "data.columns = col_names"
      ],
      "execution_count": 0,
      "outputs": []
    },
    {
      "cell_type": "code",
      "metadata": {
        "id": "8q3j7jVSGgn5",
        "colab_type": "code",
        "colab": {
          "base_uri": "https://localhost:8080/",
          "height": 289
        },
        "outputId": "44aef269-16d1-4344-eb27-402c4c107d2a"
      },
      "source": [
        "data.head(5)"
      ],
      "execution_count": 3,
      "outputs": [
        {
          "output_type": "execute_result",
          "data": {
            "text/html": [
              "<div>\n",
              "<style scoped>\n",
              "    .dataframe tbody tr th:only-of-type {\n",
              "        vertical-align: middle;\n",
              "    }\n",
              "\n",
              "    .dataframe tbody tr th {\n",
              "        vertical-align: top;\n",
              "    }\n",
              "\n",
              "    .dataframe thead th {\n",
              "        text-align: right;\n",
              "    }\n",
              "</style>\n",
              "<table border=\"1\" class=\"dataframe\">\n",
              "  <thead>\n",
              "    <tr style=\"text-align: right;\">\n",
              "      <th></th>\n",
              "      <th>name</th>\n",
              "      <th>hasCuisine</th>\n",
              "      <th>priceRange</th>\n",
              "      <th>mealTypes</th>\n",
              "      <th>distance</th>\n",
              "      <th>isVegetarian</th>\n",
              "      <th>glutenFree</th>\n",
              "      <th>hasLanguage</th>\n",
              "      <th>transportation</th>\n",
              "    </tr>\n",
              "  </thead>\n",
              "  <tbody>\n",
              "    <tr>\n",
              "      <th>0</th>\n",
              "      <td>Miss Saigon Restaurant</td>\n",
              "      <td>Vietnamese</td>\n",
              "      <td>low</td>\n",
              "      <td>Lunch, Dinner</td>\n",
              "      <td>17</td>\n",
              "      <td>Y</td>\n",
              "      <td>Unknown</td>\n",
              "      <td>German, English, Vietnamese</td>\n",
              "      <td>Bus, Taxi</td>\n",
              "    </tr>\n",
              "    <tr>\n",
              "      <th>1</th>\n",
              "      <td>Maroush</td>\n",
              "      <td>Lebanese, Middle Eastern</td>\n",
              "      <td>low</td>\n",
              "      <td>Lunch, Dinner</td>\n",
              "      <td>9</td>\n",
              "      <td>Y</td>\n",
              "      <td>Unknown</td>\n",
              "      <td>German, English, Arabic</td>\n",
              "      <td>Walk</td>\n",
              "    </tr>\n",
              "    <tr>\n",
              "      <th>2</th>\n",
              "      <td>Burgermeister Kottbusser Tor</td>\n",
              "      <td>American</td>\n",
              "      <td>low</td>\n",
              "      <td>Lunch, Dinner</td>\n",
              "      <td>12</td>\n",
              "      <td>Y</td>\n",
              "      <td>Unknown</td>\n",
              "      <td>German, English</td>\n",
              "      <td>Walk</td>\n",
              "    </tr>\n",
              "    <tr>\n",
              "      <th>3</th>\n",
              "      <td>Basmah</td>\n",
              "      <td>Sudanese, Mediterranean</td>\n",
              "      <td>low</td>\n",
              "      <td>Lunch, Dinner</td>\n",
              "      <td>15</td>\n",
              "      <td>Y</td>\n",
              "      <td>Unknown</td>\n",
              "      <td>German, English, Arabic</td>\n",
              "      <td>Walk, Bus</td>\n",
              "    </tr>\n",
              "    <tr>\n",
              "      <th>4</th>\n",
              "      <td>Mundvoll</td>\n",
              "      <td>International</td>\n",
              "      <td>medium</td>\n",
              "      <td>Breakfast, Brunch, Lunch, Dinner</td>\n",
              "      <td>6</td>\n",
              "      <td>Y</td>\n",
              "      <td>Y</td>\n",
              "      <td>German, English</td>\n",
              "      <td>Walk</td>\n",
              "    </tr>\n",
              "  </tbody>\n",
              "</table>\n",
              "</div>"
            ],
            "text/plain": [
              "                           name  ... transportation\n",
              "0        Miss Saigon Restaurant  ...      Bus, Taxi\n",
              "1                       Maroush  ...           Walk\n",
              "2  Burgermeister Kottbusser Tor  ...           Walk\n",
              "3                        Basmah  ...      Walk, Bus\n",
              "4                      Mundvoll  ...           Walk\n",
              "\n",
              "[5 rows x 9 columns]"
            ]
          },
          "metadata": {
            "tags": []
          },
          "execution_count": 3
        }
      ]
    },
    {
      "cell_type": "markdown",
      "metadata": {
        "id": "7Zghh9y-aLya",
        "colab_type": "text"
      },
      "source": [
        "### Building the KB"
      ]
    },
    {
      "cell_type": "code",
      "metadata": {
        "id": "3vLJJBagNHdz",
        "colab_type": "code",
        "colab": {}
      },
      "source": [
        "# I converted Euro signs to three price levels: low, medium, high in Excel \n",
        "\n",
        "# all_commands = []\n",
        "listCommands = []\n",
        "\n",
        "for k in range(len(data)):\n",
        "  row = data.loc[k, :]\n",
        "  resName = row[0]\n",
        "  # concatenate words in the name, converted to lowercase (can fix to join with lower dash later)\n",
        "  resName = ''.join(e for e in resName.lower() if e.isalnum()) \n",
        "  # listCommands = [] # all commands per single restaurant name\n",
        "  for i in range(1, len(row)):\n",
        "    category = data.columns[i]\n",
        "    items = row[i]\n",
        "    if type(items) == str:\n",
        "      items = row[i].split(', ')\n",
        "      for item in items:\n",
        "        item = ''.join(e for e in item.lower() if e.isalnum())\n",
        "        command = \"{0}({1}, {2})\".format(category, resName, item)\n",
        "        listCommands.append(command)\n",
        "    else:\n",
        "      command = \"{0}({1}, {2})\".format(category, resName, items)\n",
        "      listCommands.append(command)\n",
        "  # all_commands.append(listCommands) "
      ],
      "execution_count": 0,
      "outputs": []
    },
    {
      "cell_type": "code",
      "metadata": {
        "id": "mYxT3x9rPyWN",
        "colab_type": "code",
        "colab": {
          "base_uri": "https://localhost:8080/",
          "height": 54
        },
        "outputId": "bedae1f2-a58e-46c6-f20a-bedc8b09e861"
      },
      "source": [
        "print(listCommands[12:20]) # checking to see how Middle eastern got converted"
      ],
      "execution_count": 5,
      "outputs": [
        {
          "output_type": "stream",
          "text": [
            "['hasCuisine(maroush, lebanese)', 'hasCuisine(maroush, middleeastern)', 'priceRange(maroush, low)', 'mealTypes(maroush, lunch)', 'mealTypes(maroush, dinner)', 'distance(maroush, 9)', 'isVegetarian(maroush, y)', 'glutenFree(maroush, unknown)']\n"
          ],
          "name": "stdout"
        }
      ]
    },
    {
      "cell_type": "code",
      "metadata": {
        "id": "lMM-oZ-17nTJ",
        "colab_type": "code",
        "colab": {}
      },
      "source": [
        "from pyswip import Prolog\n",
        "\n",
        "prolog = Prolog()\n",
        "\n",
        "for command in listCommands:\n",
        "  prolog.assertz(command)"
      ],
      "execution_count": 0,
      "outputs": []
    },
    {
      "cell_type": "markdown",
      "metadata": {
        "id": "geU3SZ4waSgC",
        "colab_type": "text"
      },
      "source": [
        "### Queries"
      ]
    },
    {
      "cell_type": "code",
      "metadata": {
        "id": "n-1yWuy0cPCD",
        "colab_type": "code",
        "colab": {}
      },
      "source": [
        "prolog.assertz(\"query(X, Cuisine, Price, -1) :- hasCuisine(X, Cuisine), priceRange(X, Price)\")\n",
        "prolog.assertz(\"query(X, Cuisine, Price, Distance) :- hasCuisine(X, Cuisine), priceRange(X, Price), distance(X, Y), Y < Distance\")"
      ],
      "execution_count": 0,
      "outputs": []
    },
    {
      "cell_type": "markdown",
      "metadata": {
        "id": "sNZ2K_3BZo-O",
        "colab_type": "text"
      },
      "source": [
        "### Test cases"
      ]
    },
    {
      "cell_type": "code",
      "metadata": {
        "id": "uXKbxfhOuTbk",
        "colab_type": "code",
        "outputId": "0498a75c-416e-4ca7-c48e-a6930003e66b",
        "colab": {
          "base_uri": "https://localhost:8080/",
          "height": 34
        }
      },
      "source": [
        "# filter range within 10\n",
        "res = set()\n",
        "for soln in prolog.query(\"query(X, _, _, 10)\"):\n",
        "    res.add(soln[\"X\"])\n",
        "print(res)"
      ],
      "execution_count": 8,
      "outputs": [
        {
          "output_type": "stream",
          "text": [
            "{'maroush', 'mundvoll', 'lapiadina', 'santamaria', 'paglia'}\n"
          ],
          "name": "stdout"
        }
      ]
    },
    {
      "cell_type": "code",
      "metadata": {
        "id": "dhomQpiJw3qv",
        "colab_type": "code",
        "outputId": "214a9f9c-aa34-4925-dc98-d295442eec04",
        "colab": {
          "base_uri": "https://localhost:8080/",
          "height": 34
        }
      },
      "source": [
        "# filter cuisine lebanese and medium price\n",
        "res = set()\n",
        "for soln in prolog.query(\"query(X, lebanese, low, -1)\"):\n",
        "    res.add(soln[\"X\"])\n",
        "print(res)"
      ],
      "execution_count": 10,
      "outputs": [
        {
          "output_type": "stream",
          "text": [
            "{'maroush'}\n"
          ],
          "name": "stdout"
        }
      ]
    },
    {
      "cell_type": "code",
      "metadata": {
        "id": "F9eax-iU1SkG",
        "colab_type": "code",
        "colab": {}
      },
      "source": [
        "def search(cuisine = '_', price = '_', distance = '-1'):\n",
        "    to_query = \"query(X, %s)\" % (\",\".join([cuisine, price, distance]))\n",
        "    return set([soln[\"X\"] for soln in prolog.query(to_query)])"
      ],
      "execution_count": 0,
      "outputs": []
    },
    {
      "cell_type": "code",
      "metadata": {
        "id": "_dFzgp0R4NSX",
        "colab_type": "code",
        "outputId": "5ebb1821-6a56-4106-819e-3348f6e48ec3",
        "colab": {
          "base_uri": "https://localhost:8080/",
          "height": 544
        }
      },
      "source": [
        "search()"
      ],
      "execution_count": 12,
      "outputs": [
        {
          "output_type": "execute_result",
          "data": {
            "text/plain": [
              "{'amrit',\n",
              " 'basmah',\n",
              " 'burgermeisterkottbussertor',\n",
              " 'eden',\n",
              " 'hasirburger',\n",
              " 'hofbraeuwirtshaus',\n",
              " 'huating',\n",
              " 'jambo',\n",
              " 'knofifeinkost',\n",
              " 'kreuzbergerweltlaterne',\n",
              " 'lapiadina',\n",
              " 'lemongrass',\n",
              " 'longmarchcanteen',\n",
              " 'mabuhay',\n",
              " 'maroush',\n",
              " 'milchzucker',\n",
              " 'misssaigonrestaurant',\n",
              " 'mundvoll',\n",
              " 'nanoosh',\n",
              " 'paglia',\n",
              " 'pila',\n",
              " 'quepasamexicana',\n",
              " 'richard',\n",
              " 'rissani',\n",
              " 'santamaria',\n",
              " 'shezan',\n",
              " 'spindler',\n",
              " 'sushiforyou',\n",
              " 'westberlin',\n",
              " 'wonderwaffel',\n",
              " 'yafo'}"
            ]
          },
          "metadata": {
            "tags": []
          },
          "execution_count": 12
        }
      ]
    },
    {
      "cell_type": "code",
      "metadata": {
        "id": "x4jqvEG64RwP",
        "colab_type": "code",
        "outputId": "d3ddaf10-e0f9-42cf-97ab-5f6937bce55a",
        "colab": {
          "base_uri": "https://localhost:8080/",
          "height": 34
        }
      },
      "source": [
        "search(cuisine = \"lebanese\", distance = \"10\")"
      ],
      "execution_count": 13,
      "outputs": [
        {
          "output_type": "execute_result",
          "data": {
            "text/plain": [
              "{'maroush'}"
            ]
          },
          "metadata": {
            "tags": []
          },
          "execution_count": 13
        }
      ]
    },
    {
      "cell_type": "code",
      "metadata": {
        "id": "B7V9ftS0Y7mW",
        "colab_type": "code",
        "colab": {}
      },
      "source": [
        ""
      ],
      "execution_count": 0,
      "outputs": []
    }
  ]
}