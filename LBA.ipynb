{
  "nbformat": 4,
  "nbformat_minor": 0,
  "metadata": {
    "colab": {
      "name": "LBA_v2.ipynb",
      "provenance": [],
      "collapsed_sections": [],
      "toc_visible": true,
      "include_colab_link": true
    },
    "kernelspec": {
      "display_name": "Python 3",
      "language": "python",
      "name": "python3"
    },
    "language_info": {
      "codemirror_mode": {
        "name": "ipython",
        "version": 3
      },
      "file_extension": ".py",
      "mimetype": "text/x-python",
      "name": "python",
      "nbconvert_exporter": "python",
      "pygments_lexer": "ipython3",
      "version": "3.7.0"
    },
    "widgets": {
      "application/vnd.jupyter.widget-state+json": {
        "6bae8937bea3497baeba7d4ffc911305": {
          "model_module": "@jupyter-widgets/controls",
          "model_name": "VBoxModel",
          "state": {
            "_view_name": "VBoxView",
            "_dom_classes": [
              "widget-interact"
            ],
            "_model_name": "VBoxModel",
            "_view_module": "@jupyter-widgets/controls",
            "_model_module_version": "1.5.0",
            "_view_count": null,
            "_view_module_version": "1.5.0",
            "box_style": "",
            "layout": "IPY_MODEL_63b06e05b07446158c6555d939a94068",
            "_model_module": "@jupyter-widgets/controls",
            "children": [
              "IPY_MODEL_e5ae693ef2894614a7fc353802ba7dbf",
              "IPY_MODEL_56261d77dd8441a0a38b754260a1470c",
              "IPY_MODEL_8b2aa3e4967046788192fc099989257c",
              "IPY_MODEL_2f7c0b8602eb48b8b762e5f770c40b0e",
              "IPY_MODEL_f10fd63b84e546409659531180b459b6",
              "IPY_MODEL_f4b8d84e3c98445caeae879ebbfa967d",
              "IPY_MODEL_af2b7d32345d4e2086f26540ccfcb178",
              "IPY_MODEL_7f92d2b88b504841a39103b8525fd591"
            ]
          }
        },
        "63b06e05b07446158c6555d939a94068": {
          "model_module": "@jupyter-widgets/base",
          "model_name": "LayoutModel",
          "state": {
            "_view_name": "LayoutView",
            "grid_template_rows": null,
            "right": null,
            "justify_content": null,
            "_view_module": "@jupyter-widgets/base",
            "overflow": null,
            "_model_module_version": "1.2.0",
            "_view_count": null,
            "flex_flow": null,
            "width": null,
            "min_width": null,
            "border": null,
            "align_items": null,
            "bottom": null,
            "_model_module": "@jupyter-widgets/base",
            "top": null,
            "grid_column": null,
            "overflow_y": null,
            "overflow_x": null,
            "grid_auto_flow": null,
            "grid_area": null,
            "grid_template_columns": null,
            "flex": null,
            "_model_name": "LayoutModel",
            "justify_items": null,
            "grid_row": null,
            "max_height": null,
            "align_content": null,
            "visibility": null,
            "align_self": null,
            "height": null,
            "min_height": null,
            "padding": null,
            "grid_auto_rows": null,
            "grid_gap": null,
            "max_width": null,
            "order": null,
            "_view_module_version": "1.2.0",
            "grid_template_areas": null,
            "object_position": null,
            "object_fit": null,
            "grid_auto_columns": null,
            "margin": null,
            "display": null,
            "left": null
          }
        },
        "e5ae693ef2894614a7fc353802ba7dbf": {
          "model_module": "@jupyter-widgets/controls",
          "model_name": "TextModel",
          "state": {
            "_view_name": "TextView",
            "style": "IPY_MODEL_91ed366303e34d9dbb5a3f816ebcca78",
            "_dom_classes": [],
            "description": "cuisine",
            "_model_name": "TextModel",
            "placeholder": "​",
            "_view_module": "@jupyter-widgets/controls",
            "_model_module_version": "1.5.0",
            "value": "italian, american, vietnamese",
            "_view_count": null,
            "disabled": false,
            "_view_module_version": "1.5.0",
            "continuous_update": true,
            "description_tooltip": null,
            "_model_module": "@jupyter-widgets/controls",
            "layout": "IPY_MODEL_5233e4c723704962b61986503ee7b67e"
          }
        },
        "56261d77dd8441a0a38b754260a1470c": {
          "model_module": "@jupyter-widgets/controls",
          "model_name": "TextModel",
          "state": {
            "_view_name": "TextView",
            "style": "IPY_MODEL_bbb47df348e248e88d36822acc29931e",
            "_dom_classes": [],
            "description": "price",
            "_model_name": "TextModel",
            "placeholder": "​",
            "_view_module": "@jupyter-widgets/controls",
            "_model_module_version": "1.5.0",
            "value": "_",
            "_view_count": null,
            "disabled": false,
            "_view_module_version": "1.5.0",
            "continuous_update": true,
            "description_tooltip": null,
            "_model_module": "@jupyter-widgets/controls",
            "layout": "IPY_MODEL_64ba9900bd884fc4bc9f1ea2cee83bbc"
          }
        },
        "8b2aa3e4967046788192fc099989257c": {
          "model_module": "@jupyter-widgets/controls",
          "model_name": "TextModel",
          "state": {
            "_view_name": "TextView",
            "style": "IPY_MODEL_3319a2c58dee4e45af2d8af17418667e",
            "_dom_classes": [],
            "description": "distance",
            "_model_name": "TextModel",
            "placeholder": "​",
            "_view_module": "@jupyter-widgets/controls",
            "_model_module_version": "1.5.0",
            "value": "1000",
            "_view_count": null,
            "disabled": false,
            "_view_module_version": "1.5.0",
            "continuous_update": true,
            "description_tooltip": null,
            "_model_module": "@jupyter-widgets/controls",
            "layout": "IPY_MODEL_b090ad22d242423a9c444ef2c998f15e"
          }
        },
        "2f7c0b8602eb48b8b762e5f770c40b0e": {
          "model_module": "@jupyter-widgets/controls",
          "model_name": "TextModel",
          "state": {
            "_view_name": "TextView",
            "style": "IPY_MODEL_ab0f04daa10a4c0596ace301e115f077",
            "_dom_classes": [],
            "description": "isvegetarian",
            "_model_name": "TextModel",
            "placeholder": "​",
            "_view_module": "@jupyter-widgets/controls",
            "_model_module_version": "1.5.0",
            "value": "_",
            "_view_count": null,
            "disabled": false,
            "_view_module_version": "1.5.0",
            "continuous_update": true,
            "description_tooltip": null,
            "_model_module": "@jupyter-widgets/controls",
            "layout": "IPY_MODEL_31c355bafe0340a88271c242883d0ef5"
          }
        },
        "f10fd63b84e546409659531180b459b6": {
          "model_module": "@jupyter-widgets/controls",
          "model_name": "TextModel",
          "state": {
            "_view_name": "TextView",
            "style": "IPY_MODEL_5bb4eb41b2c048a6b70dbae4c91517b0",
            "_dom_classes": [],
            "description": "mealtype",
            "_model_name": "TextModel",
            "placeholder": "​",
            "_view_module": "@jupyter-widgets/controls",
            "_model_module_version": "1.5.0",
            "value": "lunch, dinner",
            "_view_count": null,
            "disabled": false,
            "_view_module_version": "1.5.0",
            "continuous_update": true,
            "description_tooltip": null,
            "_model_module": "@jupyter-widgets/controls",
            "layout": "IPY_MODEL_53e85bf0d82d42f6b282d4e18784145c"
          }
        },
        "f4b8d84e3c98445caeae879ebbfa967d": {
          "model_module": "@jupyter-widgets/controls",
          "model_name": "TextModel",
          "state": {
            "_view_name": "TextView",
            "style": "IPY_MODEL_59a407835fa84f0f977c65e0d4c22ff5",
            "_dom_classes": [],
            "description": "isglutenfree",
            "_model_name": "TextModel",
            "placeholder": "​",
            "_view_module": "@jupyter-widgets/controls",
            "_model_module_version": "1.5.0",
            "value": "_",
            "_view_count": null,
            "disabled": false,
            "_view_module_version": "1.5.0",
            "continuous_update": true,
            "description_tooltip": null,
            "_model_module": "@jupyter-widgets/controls",
            "layout": "IPY_MODEL_1677885d295e445f81c67c48e8f57d09"
          }
        },
        "af2b7d32345d4e2086f26540ccfcb178": {
          "model_module": "@jupyter-widgets/controls",
          "model_name": "TextModel",
          "state": {
            "_view_name": "TextView",
            "style": "IPY_MODEL_a163e535c9bd40af8e05d730134f763c",
            "_dom_classes": [],
            "description": "transport",
            "_model_name": "TextModel",
            "placeholder": "​",
            "_view_module": "@jupyter-widgets/controls",
            "_model_module_version": "1.5.0",
            "value": "_",
            "_view_count": null,
            "disabled": false,
            "_view_module_version": "1.5.0",
            "continuous_update": true,
            "description_tooltip": null,
            "_model_module": "@jupyter-widgets/controls",
            "layout": "IPY_MODEL_222bfc2af7554286989d09f3b1532637"
          }
        },
        "7f92d2b88b504841a39103b8525fd591": {
          "model_module": "@jupyter-widgets/output",
          "model_name": "OutputModel",
          "state": {
            "_view_name": "OutputView",
            "msg_id": "",
            "_dom_classes": [],
            "_model_name": "OutputModel",
            "outputs": [
              {
                "output_type": "display_data",
                "metadata": {
                  "tags": []
                },
                "text/plain": "{'burgermeisterkottbussertor',\n 'eden',\n 'lapiadina',\n 'misssaigonrestaurant',\n 'paglia'}"
              }
            ],
            "_view_module": "@jupyter-widgets/output",
            "_model_module_version": "1.0.0",
            "_view_count": null,
            "_view_module_version": "1.0.0",
            "layout": "IPY_MODEL_b4dec148053341ba8e407724830e5951",
            "_model_module": "@jupyter-widgets/output"
          }
        },
        "91ed366303e34d9dbb5a3f816ebcca78": {
          "model_module": "@jupyter-widgets/controls",
          "model_name": "DescriptionStyleModel",
          "state": {
            "_view_name": "StyleView",
            "_model_name": "DescriptionStyleModel",
            "description_width": "",
            "_view_module": "@jupyter-widgets/base",
            "_model_module_version": "1.5.0",
            "_view_count": null,
            "_view_module_version": "1.2.0",
            "_model_module": "@jupyter-widgets/controls"
          }
        },
        "5233e4c723704962b61986503ee7b67e": {
          "model_module": "@jupyter-widgets/base",
          "model_name": "LayoutModel",
          "state": {
            "_view_name": "LayoutView",
            "grid_template_rows": null,
            "right": null,
            "justify_content": null,
            "_view_module": "@jupyter-widgets/base",
            "overflow": null,
            "_model_module_version": "1.2.0",
            "_view_count": null,
            "flex_flow": null,
            "width": null,
            "min_width": null,
            "border": null,
            "align_items": null,
            "bottom": null,
            "_model_module": "@jupyter-widgets/base",
            "top": null,
            "grid_column": null,
            "overflow_y": null,
            "overflow_x": null,
            "grid_auto_flow": null,
            "grid_area": null,
            "grid_template_columns": null,
            "flex": null,
            "_model_name": "LayoutModel",
            "justify_items": null,
            "grid_row": null,
            "max_height": null,
            "align_content": null,
            "visibility": null,
            "align_self": null,
            "height": null,
            "min_height": null,
            "padding": null,
            "grid_auto_rows": null,
            "grid_gap": null,
            "max_width": null,
            "order": null,
            "_view_module_version": "1.2.0",
            "grid_template_areas": null,
            "object_position": null,
            "object_fit": null,
            "grid_auto_columns": null,
            "margin": null,
            "display": null,
            "left": null
          }
        },
        "bbb47df348e248e88d36822acc29931e": {
          "model_module": "@jupyter-widgets/controls",
          "model_name": "DescriptionStyleModel",
          "state": {
            "_view_name": "StyleView",
            "_model_name": "DescriptionStyleModel",
            "description_width": "",
            "_view_module": "@jupyter-widgets/base",
            "_model_module_version": "1.5.0",
            "_view_count": null,
            "_view_module_version": "1.2.0",
            "_model_module": "@jupyter-widgets/controls"
          }
        },
        "64ba9900bd884fc4bc9f1ea2cee83bbc": {
          "model_module": "@jupyter-widgets/base",
          "model_name": "LayoutModel",
          "state": {
            "_view_name": "LayoutView",
            "grid_template_rows": null,
            "right": null,
            "justify_content": null,
            "_view_module": "@jupyter-widgets/base",
            "overflow": null,
            "_model_module_version": "1.2.0",
            "_view_count": null,
            "flex_flow": null,
            "width": null,
            "min_width": null,
            "border": null,
            "align_items": null,
            "bottom": null,
            "_model_module": "@jupyter-widgets/base",
            "top": null,
            "grid_column": null,
            "overflow_y": null,
            "overflow_x": null,
            "grid_auto_flow": null,
            "grid_area": null,
            "grid_template_columns": null,
            "flex": null,
            "_model_name": "LayoutModel",
            "justify_items": null,
            "grid_row": null,
            "max_height": null,
            "align_content": null,
            "visibility": null,
            "align_self": null,
            "height": null,
            "min_height": null,
            "padding": null,
            "grid_auto_rows": null,
            "grid_gap": null,
            "max_width": null,
            "order": null,
            "_view_module_version": "1.2.0",
            "grid_template_areas": null,
            "object_position": null,
            "object_fit": null,
            "grid_auto_columns": null,
            "margin": null,
            "display": null,
            "left": null
          }
        },
        "3319a2c58dee4e45af2d8af17418667e": {
          "model_module": "@jupyter-widgets/controls",
          "model_name": "DescriptionStyleModel",
          "state": {
            "_view_name": "StyleView",
            "_model_name": "DescriptionStyleModel",
            "description_width": "",
            "_view_module": "@jupyter-widgets/base",
            "_model_module_version": "1.5.0",
            "_view_count": null,
            "_view_module_version": "1.2.0",
            "_model_module": "@jupyter-widgets/controls"
          }
        },
        "b090ad22d242423a9c444ef2c998f15e": {
          "model_module": "@jupyter-widgets/base",
          "model_name": "LayoutModel",
          "state": {
            "_view_name": "LayoutView",
            "grid_template_rows": null,
            "right": null,
            "justify_content": null,
            "_view_module": "@jupyter-widgets/base",
            "overflow": null,
            "_model_module_version": "1.2.0",
            "_view_count": null,
            "flex_flow": null,
            "width": null,
            "min_width": null,
            "border": null,
            "align_items": null,
            "bottom": null,
            "_model_module": "@jupyter-widgets/base",
            "top": null,
            "grid_column": null,
            "overflow_y": null,
            "overflow_x": null,
            "grid_auto_flow": null,
            "grid_area": null,
            "grid_template_columns": null,
            "flex": null,
            "_model_name": "LayoutModel",
            "justify_items": null,
            "grid_row": null,
            "max_height": null,
            "align_content": null,
            "visibility": null,
            "align_self": null,
            "height": null,
            "min_height": null,
            "padding": null,
            "grid_auto_rows": null,
            "grid_gap": null,
            "max_width": null,
            "order": null,
            "_view_module_version": "1.2.0",
            "grid_template_areas": null,
            "object_position": null,
            "object_fit": null,
            "grid_auto_columns": null,
            "margin": null,
            "display": null,
            "left": null
          }
        },
        "ab0f04daa10a4c0596ace301e115f077": {
          "model_module": "@jupyter-widgets/controls",
          "model_name": "DescriptionStyleModel",
          "state": {
            "_view_name": "StyleView",
            "_model_name": "DescriptionStyleModel",
            "description_width": "",
            "_view_module": "@jupyter-widgets/base",
            "_model_module_version": "1.5.0",
            "_view_count": null,
            "_view_module_version": "1.2.0",
            "_model_module": "@jupyter-widgets/controls"
          }
        },
        "31c355bafe0340a88271c242883d0ef5": {
          "model_module": "@jupyter-widgets/base",
          "model_name": "LayoutModel",
          "state": {
            "_view_name": "LayoutView",
            "grid_template_rows": null,
            "right": null,
            "justify_content": null,
            "_view_module": "@jupyter-widgets/base",
            "overflow": null,
            "_model_module_version": "1.2.0",
            "_view_count": null,
            "flex_flow": null,
            "width": null,
            "min_width": null,
            "border": null,
            "align_items": null,
            "bottom": null,
            "_model_module": "@jupyter-widgets/base",
            "top": null,
            "grid_column": null,
            "overflow_y": null,
            "overflow_x": null,
            "grid_auto_flow": null,
            "grid_area": null,
            "grid_template_columns": null,
            "flex": null,
            "_model_name": "LayoutModel",
            "justify_items": null,
            "grid_row": null,
            "max_height": null,
            "align_content": null,
            "visibility": null,
            "align_self": null,
            "height": null,
            "min_height": null,
            "padding": null,
            "grid_auto_rows": null,
            "grid_gap": null,
            "max_width": null,
            "order": null,
            "_view_module_version": "1.2.0",
            "grid_template_areas": null,
            "object_position": null,
            "object_fit": null,
            "grid_auto_columns": null,
            "margin": null,
            "display": null,
            "left": null
          }
        },
        "5bb4eb41b2c048a6b70dbae4c91517b0": {
          "model_module": "@jupyter-widgets/controls",
          "model_name": "DescriptionStyleModel",
          "state": {
            "_view_name": "StyleView",
            "_model_name": "DescriptionStyleModel",
            "description_width": "",
            "_view_module": "@jupyter-widgets/base",
            "_model_module_version": "1.5.0",
            "_view_count": null,
            "_view_module_version": "1.2.0",
            "_model_module": "@jupyter-widgets/controls"
          }
        },
        "53e85bf0d82d42f6b282d4e18784145c": {
          "model_module": "@jupyter-widgets/base",
          "model_name": "LayoutModel",
          "state": {
            "_view_name": "LayoutView",
            "grid_template_rows": null,
            "right": null,
            "justify_content": null,
            "_view_module": "@jupyter-widgets/base",
            "overflow": null,
            "_model_module_version": "1.2.0",
            "_view_count": null,
            "flex_flow": null,
            "width": null,
            "min_width": null,
            "border": null,
            "align_items": null,
            "bottom": null,
            "_model_module": "@jupyter-widgets/base",
            "top": null,
            "grid_column": null,
            "overflow_y": null,
            "overflow_x": null,
            "grid_auto_flow": null,
            "grid_area": null,
            "grid_template_columns": null,
            "flex": null,
            "_model_name": "LayoutModel",
            "justify_items": null,
            "grid_row": null,
            "max_height": null,
            "align_content": null,
            "visibility": null,
            "align_self": null,
            "height": null,
            "min_height": null,
            "padding": null,
            "grid_auto_rows": null,
            "grid_gap": null,
            "max_width": null,
            "order": null,
            "_view_module_version": "1.2.0",
            "grid_template_areas": null,
            "object_position": null,
            "object_fit": null,
            "grid_auto_columns": null,
            "margin": null,
            "display": null,
            "left": null
          }
        },
        "59a407835fa84f0f977c65e0d4c22ff5": {
          "model_module": "@jupyter-widgets/controls",
          "model_name": "DescriptionStyleModel",
          "state": {
            "_view_name": "StyleView",
            "_model_name": "DescriptionStyleModel",
            "description_width": "",
            "_view_module": "@jupyter-widgets/base",
            "_model_module_version": "1.5.0",
            "_view_count": null,
            "_view_module_version": "1.2.0",
            "_model_module": "@jupyter-widgets/controls"
          }
        },
        "1677885d295e445f81c67c48e8f57d09": {
          "model_module": "@jupyter-widgets/base",
          "model_name": "LayoutModel",
          "state": {
            "_view_name": "LayoutView",
            "grid_template_rows": null,
            "right": null,
            "justify_content": null,
            "_view_module": "@jupyter-widgets/base",
            "overflow": null,
            "_model_module_version": "1.2.0",
            "_view_count": null,
            "flex_flow": null,
            "width": null,
            "min_width": null,
            "border": null,
            "align_items": null,
            "bottom": null,
            "_model_module": "@jupyter-widgets/base",
            "top": null,
            "grid_column": null,
            "overflow_y": null,
            "overflow_x": null,
            "grid_auto_flow": null,
            "grid_area": null,
            "grid_template_columns": null,
            "flex": null,
            "_model_name": "LayoutModel",
            "justify_items": null,
            "grid_row": null,
            "max_height": null,
            "align_content": null,
            "visibility": null,
            "align_self": null,
            "height": null,
            "min_height": null,
            "padding": null,
            "grid_auto_rows": null,
            "grid_gap": null,
            "max_width": null,
            "order": null,
            "_view_module_version": "1.2.0",
            "grid_template_areas": null,
            "object_position": null,
            "object_fit": null,
            "grid_auto_columns": null,
            "margin": null,
            "display": null,
            "left": null
          }
        },
        "a163e535c9bd40af8e05d730134f763c": {
          "model_module": "@jupyter-widgets/controls",
          "model_name": "DescriptionStyleModel",
          "state": {
            "_view_name": "StyleView",
            "_model_name": "DescriptionStyleModel",
            "description_width": "",
            "_view_module": "@jupyter-widgets/base",
            "_model_module_version": "1.5.0",
            "_view_count": null,
            "_view_module_version": "1.2.0",
            "_model_module": "@jupyter-widgets/controls"
          }
        },
        "222bfc2af7554286989d09f3b1532637": {
          "model_module": "@jupyter-widgets/base",
          "model_name": "LayoutModel",
          "state": {
            "_view_name": "LayoutView",
            "grid_template_rows": null,
            "right": null,
            "justify_content": null,
            "_view_module": "@jupyter-widgets/base",
            "overflow": null,
            "_model_module_version": "1.2.0",
            "_view_count": null,
            "flex_flow": null,
            "width": null,
            "min_width": null,
            "border": null,
            "align_items": null,
            "bottom": null,
            "_model_module": "@jupyter-widgets/base",
            "top": null,
            "grid_column": null,
            "overflow_y": null,
            "overflow_x": null,
            "grid_auto_flow": null,
            "grid_area": null,
            "grid_template_columns": null,
            "flex": null,
            "_model_name": "LayoutModel",
            "justify_items": null,
            "grid_row": null,
            "max_height": null,
            "align_content": null,
            "visibility": null,
            "align_self": null,
            "height": null,
            "min_height": null,
            "padding": null,
            "grid_auto_rows": null,
            "grid_gap": null,
            "max_width": null,
            "order": null,
            "_view_module_version": "1.2.0",
            "grid_template_areas": null,
            "object_position": null,
            "object_fit": null,
            "grid_auto_columns": null,
            "margin": null,
            "display": null,
            "left": null
          }
        }
      }
    }
  },
  "cells": [
    {
      "cell_type": "markdown",
      "metadata": {
        "id": "view-in-github",
        "colab_type": "text"
      },
      "source": [
        "<a href=\"https://colab.research.google.com/github/kevinyang372/Prolog_Expert_System/blob/master/LBA.ipynb\" target=\"_parent\"><img src=\"https://colab.research.google.com/assets/colab-badge.svg\" alt=\"Open In Colab\"/></a>"
      ]
    },
    {
      "cell_type": "code",
      "metadata": {
        "colab_type": "code",
        "id": "H6stno-luRIY",
        "colab": {}
      },
      "source": [
        "# !sudo apt install swi-prolog"
      ],
      "execution_count": 0,
      "outputs": []
    },
    {
      "cell_type": "code",
      "metadata": {
        "colab_type": "code",
        "id": "I9qT6Gh47ytd",
        "colab": {}
      },
      "source": [
        "# !pip install pyswip"
      ],
      "execution_count": 0,
      "outputs": []
    },
    {
      "cell_type": "code",
      "metadata": {
        "colab_type": "code",
        "id": "dVQwmbe2YKYN",
        "colab": {}
      },
      "source": [
        "import pandas as pd\n",
        "import numpy as np"
      ],
      "execution_count": 0,
      "outputs": []
    },
    {
      "cell_type": "code",
      "metadata": {
        "colab_type": "code",
        "id": "ZW05UISfYjOI",
        "colab": {}
      },
      "source": [
        "# Loading the data and renaming the columns \n",
        "# The names now correspond to the statement types\n",
        " \n",
        "data = pd.read_csv('/content/CS152 LBA data - Sheet1.csv', skiprows=1)\n",
        "col_names = ['name', 'hasCuisine', 'priceRange', 'mealTypes', 'distance',\n",
        "             'isVegetarian', 'glutenFree', 'hasLanguage', 'transportation']\n",
        "data.columns = col_names"
      ],
      "execution_count": 0,
      "outputs": []
    },
    {
      "cell_type": "code",
      "metadata": {
        "colab_type": "code",
        "id": "8q3j7jVSGgn5",
        "colab": {
          "base_uri": "https://localhost:8080/",
          "height": 394
        },
        "outputId": "41369d8d-4fab-4091-f2f5-57c8d78a8118"
      },
      "source": [
        "data.head(5)"
      ],
      "execution_count": 10,
      "outputs": [
        {
          "output_type": "execute_result",
          "data": {
            "text/html": [
              "<div>\n",
              "<style scoped>\n",
              "    .dataframe tbody tr th:only-of-type {\n",
              "        vertical-align: middle;\n",
              "    }\n",
              "\n",
              "    .dataframe tbody tr th {\n",
              "        vertical-align: top;\n",
              "    }\n",
              "\n",
              "    .dataframe thead th {\n",
              "        text-align: right;\n",
              "    }\n",
              "</style>\n",
              "<table border=\"1\" class=\"dataframe\">\n",
              "  <thead>\n",
              "    <tr style=\"text-align: right;\">\n",
              "      <th></th>\n",
              "      <th>name</th>\n",
              "      <th>hasCuisine</th>\n",
              "      <th>priceRange</th>\n",
              "      <th>mealTypes</th>\n",
              "      <th>distance</th>\n",
              "      <th>isVegetarian</th>\n",
              "      <th>glutenFree</th>\n",
              "      <th>hasLanguage</th>\n",
              "      <th>transportation</th>\n",
              "    </tr>\n",
              "  </thead>\n",
              "  <tbody>\n",
              "    <tr>\n",
              "      <th>0</th>\n",
              "      <td>Miss Saigon Restaurant</td>\n",
              "      <td>Vietnamese</td>\n",
              "      <td>low</td>\n",
              "      <td>Lunch, Dinner</td>\n",
              "      <td>17</td>\n",
              "      <td>Y</td>\n",
              "      <td>Unknown</td>\n",
              "      <td>German, English, Vietnamese</td>\n",
              "      <td>Bus, Taxi</td>\n",
              "    </tr>\n",
              "    <tr>\n",
              "      <th>1</th>\n",
              "      <td>Maroush</td>\n",
              "      <td>Lebanese, Middle Eastern</td>\n",
              "      <td>low</td>\n",
              "      <td>Lunch, Dinner</td>\n",
              "      <td>9</td>\n",
              "      <td>Y</td>\n",
              "      <td>Unknown</td>\n",
              "      <td>German, English, Arabic</td>\n",
              "      <td>Walk</td>\n",
              "    </tr>\n",
              "    <tr>\n",
              "      <th>2</th>\n",
              "      <td>Burgermeister Kottbusser Tor</td>\n",
              "      <td>American</td>\n",
              "      <td>low</td>\n",
              "      <td>Lunch, Dinner</td>\n",
              "      <td>12</td>\n",
              "      <td>Y</td>\n",
              "      <td>Unknown</td>\n",
              "      <td>German, English</td>\n",
              "      <td>Walk</td>\n",
              "    </tr>\n",
              "    <tr>\n",
              "      <th>3</th>\n",
              "      <td>Basmah</td>\n",
              "      <td>Sudanese, Mediterranean</td>\n",
              "      <td>low</td>\n",
              "      <td>Lunch, Dinner</td>\n",
              "      <td>15</td>\n",
              "      <td>Y</td>\n",
              "      <td>Unknown</td>\n",
              "      <td>German, English, Arabic</td>\n",
              "      <td>Walk, Bus</td>\n",
              "    </tr>\n",
              "    <tr>\n",
              "      <th>4</th>\n",
              "      <td>Mundvoll</td>\n",
              "      <td>International</td>\n",
              "      <td>medium</td>\n",
              "      <td>Breakfast, Brunch, Lunch, Dinner</td>\n",
              "      <td>6</td>\n",
              "      <td>Y</td>\n",
              "      <td>Y</td>\n",
              "      <td>German, English</td>\n",
              "      <td>Walk</td>\n",
              "    </tr>\n",
              "  </tbody>\n",
              "</table>\n",
              "</div>"
            ],
            "text/plain": [
              "                           name  ... transportation\n",
              "0        Miss Saigon Restaurant  ...      Bus, Taxi\n",
              "1                       Maroush  ...           Walk\n",
              "2  Burgermeister Kottbusser Tor  ...           Walk\n",
              "3                        Basmah  ...      Walk, Bus\n",
              "4                      Mundvoll  ...           Walk\n",
              "\n",
              "[5 rows x 9 columns]"
            ]
          },
          "metadata": {
            "tags": []
          },
          "execution_count": 10
        }
      ]
    },
    {
      "cell_type": "markdown",
      "metadata": {
        "colab_type": "text",
        "id": "7Zghh9y-aLya"
      },
      "source": [
        "### Building the KB"
      ]
    },
    {
      "cell_type": "code",
      "metadata": {
        "colab_type": "code",
        "id": "3vLJJBagNHdz",
        "colab": {}
      },
      "source": [
        "# Converted Euro signs to three price levels: low, medium, high in Excel \n",
        "\n",
        "# all_commands = []\n",
        "listCommands = []\n",
        "\n",
        "for k in range(len(data)):\n",
        "  row = data.loc[k, :]\n",
        "  resName = row[0]\n",
        "  # concatenate words in the name, converted to lowercase (can fix to join with lower dash later)\n",
        "  resName = ''.join(e for e in resName.lower() if e.isalnum()) \n",
        "  # listCommands = [] # all commands per single restaurant name\n",
        "  for i in range(1, len(row)):\n",
        "    category = data.columns[i]\n",
        "    items = row[i]\n",
        "    if type(items) == str:\n",
        "      items = row[i].split(', ')\n",
        "      for item in items:\n",
        "        item = ''.join(e for e in item.lower() if e.isalnum())\n",
        "        command = \"{0}({1}, {2})\".format(category, resName, item)\n",
        "        listCommands.append(command)\n",
        "    else:\n",
        "        command = \"{0}({1}, {2})\".format(category, resName, items)\n",
        "        listCommands.append(command)\n",
        "  # all_commands.append(listCommands) "
      ],
      "execution_count": 0,
      "outputs": []
    },
    {
      "cell_type": "code",
      "metadata": {
        "colab_type": "code",
        "id": "mYxT3x9rPyWN",
        "outputId": "aaf33a1a-98d1-4642-c327-a17145efc0e5",
        "colab": {
          "base_uri": "https://localhost:8080/",
          "height": 34
        }
      },
      "source": [
        "# Checking to see how Middle eastern got converted\n",
        "\n",
        "print(listCommands[12:14])"
      ],
      "execution_count": 12,
      "outputs": [
        {
          "output_type": "stream",
          "text": [
            "['hasCuisine(maroush, lebanese)', 'hasCuisine(maroush, middleeastern)']\n"
          ],
          "name": "stdout"
        }
      ]
    },
    {
      "cell_type": "code",
      "metadata": {
        "colab_type": "code",
        "id": "lMM-oZ-17nTJ",
        "colab": {}
      },
      "source": [
        "from pyswip import Prolog\n",
        "prolog = Prolog()\n",
        "\n",
        "# Assert KB inputs for all commands\n",
        "for command in listCommands:\n",
        "  prolog.assertz(command)"
      ],
      "execution_count": 0,
      "outputs": []
    },
    {
      "cell_type": "markdown",
      "metadata": {
        "colab_type": "text",
        "id": "geU3SZ4waSgC"
      },
      "source": [
        "### Queries"
      ]
    },
    {
      "cell_type": "code",
      "metadata": {
        "id": "bPZAjvu12AmS",
        "colab_type": "code",
        "colab": {}
      },
      "source": [
        "# Includes all the variables apart from Language\n",
        "\n",
        "prolog.assertz(\"query(X, Cuisine, Price, Distance, Vegetarian, Mealtype, Glutenfree, Language, Transport) :- hasCuisine(X, Cuisine), priceRange(X, Price), distance(X, Y), Y < Distance, isVegetarian(X, Vegetarian), glutenFree(X, Glutenfree), mealTypes(X, Mealtype), hasLanguage(X, Language), transportation(X, Transport)\")"
      ],
      "execution_count": 0,
      "outputs": []
    },
    {
      "cell_type": "code",
      "metadata": {
        "id": "27Gq2AWQ2Zvi",
        "colab_type": "code",
        "colab": {}
      },
      "source": [
        "# Latest update: changed distance parameter default value to 1000 from -1\n",
        "\n",
        "# search wrapper breaks down the attributes that have multiple values\n",
        "def searchWrapper(**attributes):\n",
        "\n",
        "  # initialize dictionary for single and multiple arguments\n",
        "  d_single, d_multi = {}, {}\n",
        "  to_query = []\n",
        "\n",
        "  for k, v in attributes.items():\n",
        "    if ',' in v:\n",
        "      # if there are multiple arguments record them in a query\n",
        "      d_multi[k] = v.split(',')\n",
        "      to_query.append(k)\n",
        "    else:\n",
        "      d_single[k] = v\n",
        "\n",
        "  # use backtracking to find all combinations\n",
        "  def runAllCombination(query):\n",
        "    if not query: return [{}] # base case: return empty dictionary\n",
        "\n",
        "    p = query[0]\n",
        "    res = runAllCombination(query[1:])\n",
        "    fin = []\n",
        "\n",
        "    # update new dictionaries with all possible combinations\n",
        "    for arg in d_multi[p]:\n",
        "      for pos in res:\n",
        "        temp = dict(pos)\n",
        "        temp.update({p: arg})\n",
        "        fin.append(temp)\n",
        "\n",
        "    return fin\n",
        "\n",
        "  result = set()\n",
        "\n",
        "  # run through all possible combinations and update result\n",
        "  for m in runAllCombination(to_query):\n",
        "    m.update(d_single)\n",
        "    result.update(search_new(**m))\n",
        "\n",
        "  return result\n",
        "\n",
        "def search_new(cuisine = '_', price = '_', distance = '1000', isvegetarian = '_', mealtype = '_', isglutenfree = '_', language = '_' , transport = '_'):\n",
        "  to_query = \"query(X, %s)\" % (\",\".join([cuisine, price, distance, isvegetarian, mealtype, isglutenfree, language, transport]))\n",
        "  try:\n",
        "    return set([soln[\"X\"] for soln in prolog.query(to_query)])\n",
        "  except:\n",
        "    return set()"
      ],
      "execution_count": 0,
      "outputs": []
    },
    {
      "cell_type": "code",
      "metadata": {
        "id": "o4HTdXgvHpG8",
        "colab_type": "code",
        "outputId": "43ccd1dd-c5d7-405a-8d6e-eadb16573a88",
        "colab": {
          "base_uri": "https://localhost:8080/",
          "height": 34
        }
      },
      "source": [
        "searchWrapper(cuisine = 'lebanese, middleeastern, thai, italian')"
      ],
      "execution_count": 16,
      "outputs": [
        {
          "output_type": "execute_result",
          "data": {
            "text/plain": [
              "{'lapiadina', 'lemongrass', 'maroush', 'paglia'}"
            ]
          },
          "metadata": {
            "tags": []
          },
          "execution_count": 16
        }
      ]
    },
    {
      "cell_type": "markdown",
      "metadata": {
        "colab_type": "text",
        "id": "sNZ2K_3BZo-O"
      },
      "source": [
        "### Test cases"
      ]
    },
    {
      "cell_type": "code",
      "metadata": {
        "colab_type": "code",
        "id": "uXKbxfhOuTbk",
        "outputId": "4cb11ee4-cb12-40a1-de3f-4dd3883bfb07",
        "colab": {
          "base_uri": "https://localhost:8080/",
          "height": 204
        }
      },
      "source": [
        "# Search case 1: All restaurants within a 15 min walking distance\n",
        "\n",
        "searchWrapper(distance = \"15\")"
      ],
      "execution_count": 17,
      "outputs": [
        {
          "output_type": "execute_result",
          "data": {
            "text/plain": [
              "{'burgermeisterkottbussertor',\n",
              " 'hasirburger',\n",
              " 'lapiadina',\n",
              " 'longmarchcanteen',\n",
              " 'maroush',\n",
              " 'milchzucker',\n",
              " 'mundvoll',\n",
              " 'paglia',\n",
              " 'quepasamexicana',\n",
              " 'santamaria',\n",
              " 'sushiforyou'}"
            ]
          },
          "metadata": {
            "tags": []
          },
          "execution_count": 17
        }
      ]
    },
    {
      "cell_type": "code",
      "metadata": {
        "id": "YmTwrgGG_JPB",
        "colab_type": "code",
        "outputId": "d3366289-1356-4e26-e13c-c5106144d66e",
        "colab": {
          "base_uri": "https://localhost:8080/",
          "height": 34
        }
      },
      "source": [
        "# Search case 2: A restaurant within a 10 min walking distance in a low price range\n",
        "# that has both English-speaking and German-speaking staff, vegetarian and dinner options\n",
        "\n",
        "searchWrapper(distance = \"10\", price=\"low\", isvegetarian=\"y\", mealtype=\"dinner\", language = 'english, german', transport=\"walk\")"
      ],
      "execution_count": 18,
      "outputs": [
        {
          "output_type": "execute_result",
          "data": {
            "text/plain": [
              "{'lapiadina', 'maroush', 'santamaria'}"
            ]
          },
          "metadata": {
            "tags": []
          },
          "execution_count": 18
        }
      ]
    },
    {
      "cell_type": "code",
      "metadata": {
        "colab_type": "code",
        "id": "dhomQpiJw3qv",
        "outputId": "90d86c25-7b48-41b8-ec0c-77d952c1b5ef",
        "colab": {
          "base_uri": "https://localhost:8080/",
          "height": 34
        }
      },
      "source": [
        "# Search case 3: Filter by cuisine (italian, vietnamese) and price (medium)\n",
        "\n",
        "searchWrapper(cuisine = 'italian, vietnamese', price=\"medium\")"
      ],
      "execution_count": 19,
      "outputs": [
        {
          "output_type": "execute_result",
          "data": {
            "text/plain": [
              "{'eden', 'paglia'}"
            ]
          },
          "metadata": {
            "tags": []
          },
          "execution_count": 19
        }
      ]
    },
    {
      "cell_type": "code",
      "metadata": {
        "colab_type": "code",
        "id": "x4jqvEG64RwP",
        "outputId": "99afc729-110d-4e88-cb29-3b7dc7f270ed",
        "colab": {
          "base_uri": "https://localhost:8080/",
          "height": 34
        }
      },
      "source": [
        "# Search case 4: Group dinner search; prefer American cuisine in a low price range and near the residence\n",
        "\n",
        "searchWrapper(cuisine = 'american', distance = \"15\", price=\"low\")"
      ],
      "execution_count": 20,
      "outputs": [
        {
          "output_type": "execute_result",
          "data": {
            "text/plain": [
              "{'burgermeisterkottbussertor'}"
            ]
          },
          "metadata": {
            "tags": []
          },
          "execution_count": 20
        }
      ]
    },
    {
      "cell_type": "code",
      "metadata": {
        "colab_type": "code",
        "id": "B7V9ftS0Y7mW",
        "outputId": "0388b66a-f21f-4be7-f505-c5a7fc733fd8",
        "colab": {
          "base_uri": "https://localhost:8080/",
          "height": 350,
          "referenced_widgets": [
            "6bae8937bea3497baeba7d4ffc911305",
            "63b06e05b07446158c6555d939a94068",
            "e5ae693ef2894614a7fc353802ba7dbf",
            "56261d77dd8441a0a38b754260a1470c",
            "8b2aa3e4967046788192fc099989257c",
            "2f7c0b8602eb48b8b762e5f770c40b0e",
            "f10fd63b84e546409659531180b459b6",
            "f4b8d84e3c98445caeae879ebbfa967d",
            "af2b7d32345d4e2086f26540ccfcb178",
            "7f92d2b88b504841a39103b8525fd591",
            "91ed366303e34d9dbb5a3f816ebcca78",
            "5233e4c723704962b61986503ee7b67e",
            "bbb47df348e248e88d36822acc29931e",
            "64ba9900bd884fc4bc9f1ea2cee83bbc",
            "3319a2c58dee4e45af2d8af17418667e",
            "b090ad22d242423a9c444ef2c998f15e",
            "ab0f04daa10a4c0596ace301e115f077",
            "31c355bafe0340a88271c242883d0ef5",
            "5bb4eb41b2c048a6b70dbae4c91517b0",
            "53e85bf0d82d42f6b282d4e18784145c",
            "59a407835fa84f0f977c65e0d4c22ff5",
            "1677885d295e445f81c67c48e8f57d09",
            "a163e535c9bd40af8e05d730134f763c",
            "222bfc2af7554286989d09f3b1532637"
          ]
        }
      },
      "source": [
        "from ipywidgets import interact\n",
        "interact(searchWrapper, cuisine = \"_\", price = \"_\", distance = \"1000\", isvegetarian = \"_\", mealtype = '_', isglutenfree = '_', transport = '_')\n",
        "# interact(search, cuisine = \"_\", price = \"_\", distance = \"-1\")"
      ],
      "execution_count": 0,
      "outputs": [
        {
          "output_type": "display_data",
          "data": {
            "application/vnd.jupyter.widget-view+json": {
              "model_id": "6bae8937bea3497baeba7d4ffc911305",
              "version_minor": 0,
              "version_major": 2
            },
            "text/plain": [
              "interactive(children=(Text(value='_', description='cuisine'), Text(value='_', description='price'), Text(value…"
            ]
          },
          "metadata": {
            "tags": []
          }
        },
        {
          "output_type": "execute_result",
          "data": {
            "text/plain": [
              "<function __main__.searchWrapper>"
            ]
          },
          "metadata": {
            "tags": []
          },
          "execution_count": 40
        }
      ]
    },
    {
      "cell_type": "code",
      "metadata": {
        "id": "hqijL8Wu1mtC",
        "colab_type": "code",
        "colab": {}
      },
      "source": [
        ""
      ],
      "execution_count": 0,
      "outputs": []
    }
  ]
}