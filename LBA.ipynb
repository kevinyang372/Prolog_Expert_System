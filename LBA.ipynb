{
 "cells": [
  {
   "cell_type": "markdown",
   "metadata": {
    "colab_type": "text",
    "id": "view-in-github"
   },
   "source": [
    "<a href=\"https://colab.research.google.com/github/kevinyang372/Prolog_Expert_System/blob/Sasha/LBA.ipynb\" target=\"_parent\"><img src=\"https://colab.research.google.com/assets/colab-badge.svg\" alt=\"Open In Colab\"/></a>"
   ]
  },
  {
   "cell_type": "code",
   "execution_count": 1,
   "metadata": {
    "colab": {
     "base_uri": "https://localhost:8080/",
     "height": 153
    },
    "colab_type": "code",
    "id": "H6stno-luRIY",
    "outputId": "dd192cc7-268a-4f90-fb78-59755f2e792e"
   },
   "outputs": [
    {
     "name": "stdout",
     "output_type": "stream",
     "text": [
      "Reading package lists... Done\n",
      "Building dependency tree       \n",
      "Reading state information... Done\n",
      "swi-prolog is already the newest version (7.6.4+dfsg-1build1).\n",
      "The following package was automatically installed and is no longer required:\n",
      "  libnvidia-common-430\n",
      "Use 'sudo apt autoremove' to remove it.\n",
      "0 upgraded, 0 newly installed, 0 to remove and 7 not upgraded.\n"
     ]
    }
   ],
   "source": [
    "!sudo apt install swi-prolog"
   ]
  },
  {
   "cell_type": "code",
   "execution_count": 0,
   "metadata": {
    "colab": {},
    "colab_type": "code",
    "id": "I9qT6Gh47ytd"
   },
   "outputs": [],
   "source": [
    "# pip install pyswip"
   ]
  },
  {
   "cell_type": "code",
   "execution_count": 0,
   "metadata": {
    "colab": {},
    "colab_type": "code",
    "id": "dVQwmbe2YKYN"
   },
   "outputs": [],
   "source": [
    "import pandas as pd\n",
    "import numpy as np"
   ]
  },
  {
   "cell_type": "code",
   "execution_count": 0,
   "metadata": {
    "colab": {},
    "colab_type": "code",
    "id": "ZW05UISfYjOI"
   },
   "outputs": [],
   "source": [
    "# Loading the data and renaming the columns \n",
    "# The names now correspond to the statement types\n",
    " \n",
    "data = pd.read_csv('/content/CS152 LBA data - Sheet1.csv', skiprows=1)\n",
    "col_names = ['name', 'hasCuisine', 'priceRange', 'mealTypes', 'distance',\n",
    "             'isVegetarian', 'glutenFree', 'hasLanguage', 'transportation']\n",
    "data.columns = col_names"
   ]
  },
  {
   "cell_type": "code",
   "execution_count": 5,
   "metadata": {
    "colab": {
     "base_uri": "https://localhost:8080/",
     "height": 289
    },
    "colab_type": "code",
    "id": "8q3j7jVSGgn5",
    "outputId": "11b81494-b70a-4063-c884-d895db571c64"
   },
   "outputs": [
    {
     "data": {
      "text/html": [
       "<div>\n",
       "<style scoped>\n",
       "    .dataframe tbody tr th:only-of-type {\n",
       "        vertical-align: middle;\n",
       "    }\n",
       "\n",
       "    .dataframe tbody tr th {\n",
       "        vertical-align: top;\n",
       "    }\n",
       "\n",
       "    .dataframe thead th {\n",
       "        text-align: right;\n",
       "    }\n",
       "</style>\n",
       "<table border=\"1\" class=\"dataframe\">\n",
       "  <thead>\n",
       "    <tr style=\"text-align: right;\">\n",
       "      <th></th>\n",
       "      <th>name</th>\n",
       "      <th>hasCuisine</th>\n",
       "      <th>priceRange</th>\n",
       "      <th>mealTypes</th>\n",
       "      <th>distance</th>\n",
       "      <th>isVegetarian</th>\n",
       "      <th>glutenFree</th>\n",
       "      <th>hasLanguage</th>\n",
       "      <th>transportation</th>\n",
       "    </tr>\n",
       "  </thead>\n",
       "  <tbody>\n",
       "    <tr>\n",
       "      <th>0</th>\n",
       "      <td>Miss Saigon Restaurant</td>\n",
       "      <td>Vietnamese</td>\n",
       "      <td>low</td>\n",
       "      <td>Lunch, Dinner</td>\n",
       "      <td>17</td>\n",
       "      <td>Y</td>\n",
       "      <td>Unknown</td>\n",
       "      <td>German, English, Vietnamese</td>\n",
       "      <td>Bus, Taxi</td>\n",
       "    </tr>\n",
       "    <tr>\n",
       "      <th>1</th>\n",
       "      <td>Maroush</td>\n",
       "      <td>Lebanese, Middle Eastern</td>\n",
       "      <td>low</td>\n",
       "      <td>Lunch, Dinner</td>\n",
       "      <td>9</td>\n",
       "      <td>Y</td>\n",
       "      <td>Unknown</td>\n",
       "      <td>German, English, Arabic</td>\n",
       "      <td>Walk</td>\n",
       "    </tr>\n",
       "    <tr>\n",
       "      <th>2</th>\n",
       "      <td>Burgermeister Kottbusser Tor</td>\n",
       "      <td>American</td>\n",
       "      <td>low</td>\n",
       "      <td>Lunch, Dinner</td>\n",
       "      <td>12</td>\n",
       "      <td>Y</td>\n",
       "      <td>Unknown</td>\n",
       "      <td>German, English</td>\n",
       "      <td>Walk</td>\n",
       "    </tr>\n",
       "    <tr>\n",
       "      <th>3</th>\n",
       "      <td>Basmah</td>\n",
       "      <td>Sudanese, Mediterranean</td>\n",
       "      <td>low</td>\n",
       "      <td>Lunch, Dinner</td>\n",
       "      <td>15</td>\n",
       "      <td>Y</td>\n",
       "      <td>Unknown</td>\n",
       "      <td>German, English, Arabic</td>\n",
       "      <td>Walk, Bus</td>\n",
       "    </tr>\n",
       "    <tr>\n",
       "      <th>4</th>\n",
       "      <td>Mundvoll</td>\n",
       "      <td>International</td>\n",
       "      <td>medium</td>\n",
       "      <td>Breakfast, Brunch, Lunch, Dinner</td>\n",
       "      <td>6</td>\n",
       "      <td>Y</td>\n",
       "      <td>Y</td>\n",
       "      <td>German, English</td>\n",
       "      <td>Walk</td>\n",
       "    </tr>\n",
       "  </tbody>\n",
       "</table>\n",
       "</div>"
      ],
      "text/plain": [
       "                           name  ... transportation\n",
       "0        Miss Saigon Restaurant  ...      Bus, Taxi\n",
       "1                       Maroush  ...           Walk\n",
       "2  Burgermeister Kottbusser Tor  ...           Walk\n",
       "3                        Basmah  ...      Walk, Bus\n",
       "4                      Mundvoll  ...           Walk\n",
       "\n",
       "[5 rows x 9 columns]"
      ]
     },
     "execution_count": 5,
     "metadata": {
      "tags": []
     },
     "output_type": "execute_result"
    }
   ],
   "source": [
    "data.head(5)"
   ]
  },
  {
   "cell_type": "markdown",
   "metadata": {
    "colab_type": "text",
    "id": "7Zghh9y-aLya"
   },
   "source": [
    "### Building the KB"
   ]
  },
  {
   "cell_type": "code",
   "execution_count": 0,
   "metadata": {
    "colab": {},
    "colab_type": "code",
    "id": "3vLJJBagNHdz"
   },
   "outputs": [],
   "source": [
    "# I converted Euro signs to three price levels: low, medium, high in Excel \n",
    "\n",
    "# all_commands = []\n",
    "listCommands = []\n",
    "\n",
    "for k in range(len(data)):\n",
    "  row = data.loc[k, :]\n",
    "  resName = row[0]\n",
    "  # concatenate words in the name, converted to lowercase (can fix to join with lower dash later)\n",
    "  resName = ''.join(e for e in resName.lower() if e.isalnum()) \n",
    "  # listCommands = [] # all commands per single restaurant name\n",
    "  for i in range(1, len(row)):\n",
    "    category = data.columns[i]\n",
    "    items = row[i]\n",
    "    if type(items) == str:\n",
    "      items = row[i].split(', ')\n",
    "      for item in items:\n",
    "        item = ''.join(e for e in item.lower() if e.isalnum())\n",
    "        command = \"{0}({1}, {2})\".format(category, resName, item)\n",
    "        listCommands.append(command)\n",
    "    else:\n",
    "        command = \"{0}({1}, {2})\".format(category, resName, items)\n",
    "        listCommands.append(command)\n",
    "  # all_commands.append(listCommands) "
   ]
  },
  {
   "cell_type": "code",
   "execution_count": 12,
   "metadata": {
    "colab": {
     "base_uri": "https://localhost:8080/",
     "height": 54
    },
    "colab_type": "code",
    "id": "mYxT3x9rPyWN",
    "outputId": "79f98a6a-8e70-425d-ce85-e4a37130cac6"
   },
   "outputs": [
    {
     "name": "stdout",
     "output_type": "stream",
     "text": [
      "['hasCuisine(maroush, lebanese)', 'hasCuisine(maroush, middleeastern)', 'priceRange(maroush, low)', 'mealTypes(maroush, lunch)', 'mealTypes(maroush, dinner)', 'distance(maroush, 9)', 'isVegetarian(maroush, y)', 'glutenFree(maroush, unknown)']\n"
     ]
    }
   ],
   "source": [
    "print(listCommands[12:20]) # checking to see how Middle eastern got converted"
   ]
  },
  {
   "cell_type": "code",
   "execution_count": 0,
   "metadata": {
    "colab": {},
    "colab_type": "code",
    "id": "lMM-oZ-17nTJ"
   },
   "outputs": [],
   "source": [
    "from pyswip import Prolog\n",
    "\n",
    "prolog = Prolog()\n",
    "\n",
    "for command in listCommands:\n",
    "  prolog.assertz(command)"
   ]
  },
  {
   "cell_type": "markdown",
   "metadata": {
    "colab_type": "text",
    "id": "geU3SZ4waSgC"
   },
   "source": [
    "### Queries"
   ]
  },
  {
   "cell_type": "code",
   "execution_count": 0,
   "metadata": {
    "colab": {},
    "colab_type": "code",
    "id": "n-1yWuy0cPCD"
   },
   "outputs": [],
   "source": [
    "prolog.assertz(\"query(X, Cuisine, Price, -1) :- hasCuisine(X, Cuisine), priceRange(X, Price)\")\n",
    "prolog.assertz(\"query(X, Cuisine, Price, Distance) :- hasCuisine(X, Cuisine), priceRange(X, Price), distance(X, Y), Y < Distance\")"
   ]
  },
  {
   "cell_type": "markdown",
   "metadata": {
    "colab_type": "text",
    "id": "sNZ2K_3BZo-O"
   },
   "source": [
    "### Test cases"
   ]
  },
  {
   "cell_type": "code",
   "execution_count": 15,
   "metadata": {
    "colab": {
     "base_uri": "https://localhost:8080/",
     "height": 34
    },
    "colab_type": "code",
    "id": "uXKbxfhOuTbk",
    "outputId": "23ba16c6-24e8-4adf-e82d-5a719192efa7"
   },
   "outputs": [
    {
     "name": "stdout",
     "output_type": "stream",
     "text": [
      "{'lapiadina', 'santamaria', 'mundvoll', 'maroush', 'paglia'}\n"
     ]
    }
   ],
   "source": [
    "# filter range within 10\n",
    "res = set()\n",
    "for soln in prolog.query(\"query(X, _, _, 10)\"):\n",
    "  res.add(soln[\"X\"])\n",
    "print(res)"
   ]
  },
  {
   "cell_type": "code",
   "execution_count": 16,
   "metadata": {
    "colab": {
     "base_uri": "https://localhost:8080/",
     "height": 34
    },
    "colab_type": "code",
    "id": "dhomQpiJw3qv",
    "outputId": "7a5cad50-3fb3-42c4-9afc-ed9fa1f907df"
   },
   "outputs": [
    {
     "name": "stdout",
     "output_type": "stream",
     "text": [
      "{'maroush'}\n"
     ]
    }
   ],
   "source": [
    "# filter cuisine lebanese and medium price\n",
    "res = set()\n",
    "for soln in prolog.query(\"query(X, lebanese, low, -1)\"):\n",
    "  res.add(soln[\"X\"])\n",
    "print(res)"
   ]
  },
  {
   "cell_type": "code",
   "execution_count": 0,
   "metadata": {
    "colab": {},
    "colab_type": "code",
    "id": "F9eax-iU1SkG"
   },
   "outputs": [],
   "source": [
    "def search(cuisine = '_', price = '_', distance = '-1'):\n",
    "  to_query = \"query(X, %s)\" % (\",\".join([cuisine, price, distance]))\n",
    "  return set([soln[\"X\"] for soln in prolog.query(to_query)])"
   ]
  },
  {
   "cell_type": "code",
   "execution_count": 0,
   "metadata": {
    "colab": {},
    "colab_type": "code",
    "id": "_dFzgp0R4NSX"
   },
   "outputs": [],
   "source": [
    "# search()"
   ]
  },
  {
   "cell_type": "code",
   "execution_count": 18,
   "metadata": {
    "colab": {
     "base_uri": "https://localhost:8080/",
     "height": 34
    },
    "colab_type": "code",
    "id": "x4jqvEG64RwP",
    "outputId": "2bb2f982-d1c2-4f77-c28c-861b3fcbadf6"
   },
   "outputs": [
    {
     "data": {
      "text/plain": [
       "{'maroush'}"
      ]
     },
     "execution_count": 18,
     "metadata": {
      "tags": []
     },
     "output_type": "execute_result"
    }
   ],
   "source": [
    "search(cuisine = \"lebanese\", distance = \"10\")"
   ]
  },
  {
   "cell_type": "code",
   "execution_count": 0,
   "metadata": {
    "colab": {},
    "colab_type": "code",
    "id": "B7V9ftS0Y7mW"
   },
   "outputs": [],
   "source": [
    "from ipywidgets import interact\n",
    "interact(search, cuisine = \"_\", price = \"_\", distance = \"-1\")"
   ]
  }
 ],
 "metadata": {
  "colab": {
   "collapsed_sections": [],
   "include_colab_link": true,
   "name": "LBA.ipynb",
   "provenance": []
  },
  "kernelspec": {
   "display_name": "Python 3",
   "language": "python",
   "name": "python3"
  },
  "language_info": {
   "codemirror_mode": {
    "name": "ipython",
    "version": 3
   },
   "file_extension": ".py",
   "mimetype": "text/x-python",
   "name": "python",
   "nbconvert_exporter": "python",
   "pygments_lexer": "ipython3",
   "version": "3.7.0"
  }
 },
 "nbformat": 4,
 "nbformat_minor": 1
}
